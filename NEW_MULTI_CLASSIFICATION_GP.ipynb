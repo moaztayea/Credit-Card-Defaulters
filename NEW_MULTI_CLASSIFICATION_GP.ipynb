{
  "nbformat": 4,
  "nbformat_minor": 0,
  "metadata": {
    "colab": {
      "provenance": [],
      "collapsed_sections": [
        "3Tt7SgLwy-Ph",
        "hmP9LzlXy-Pn",
        "g2yDFY5elDwB",
        "dK5WdkpjZsIm",
        "449rMOgGy-QO",
        "jON6WonnRE3o",
        "VX06Jwxfnzkg",
        "p4x_l9cb9SLS",
        "hs68PSYm6e75",
        "6F01CdZI6e75",
        "u9BTIor86e75",
        "Cun6xaFaR5P_",
        "xmAIFrR0an5i",
        "uiQu_PY_Sdt5",
        "UpVGJWUTRoCw",
        "2iCMWDUWeOwp",
        "sj1YSGqnocLa",
        "sbvOCM9m7Ju_",
        "MCWRJxtG7JvA",
        "MGiJoD7-7JvA",
        "KK-NgkDchdLm",
        "TOfQThtIbbrl",
        "tDObMUtjR6Qq",
        "6mKRlr0AiKrG",
        "6jMbxVGhtSW-",
        "VejcJnC-J_Ek",
        "1BqMP5Gu3e9w",
        "D0ygZB8s5_tf",
        "WtcuHZatkaqV",
        "EwyXp2NMQc1y",
        "y9dPsbM5cqO1",
        "IiAkt7DskaqW",
        "wfYEDEhbxfWN",
        "7HRRRHSM6hhm",
        "1tXJlvdgoCAL",
        "S1BQ93s58HmI",
        "f8YJfFed8HmJ",
        "0a2AVqxzRSZa",
        "CcHvcq62liSj",
        "1OPYN8ANliSj",
        "n_c4L4uczQh9",
        "QaQfyHthouvB",
        "NKKuHp8h3W5F"
      ],
      "mount_file_id": "1E5KvNW_uSxffeIZUXhHDeNPFXo3bakTa",
      "authorship_tag": "ABX9TyOq5rxni7Drjw+KiKnjHMtq",
      "include_colab_link": true
    },
    "kernelspec": {
      "name": "python3",
      "display_name": "Python 3"
    },
    "language_info": {
      "name": "python"
    }
  },
  "cells": [
    {
      "cell_type": "markdown",
      "metadata": {
        "id": "view-in-github",
        "colab_type": "text"
      },
      "source": [
        "<a href=\"https://colab.research.google.com/github/moaztayea/Credit-Card-Defaulters/blob/main/NEW_MULTI_CLASSIFICATION_GP.ipynb\" target=\"_parent\"><img src=\"https://colab.research.google.com/assets/colab-badge.svg\" alt=\"Open In Colab\"/></a>"
      ]
    },
    {
      "cell_type": "markdown",
      "metadata": {
        "id": "3Tt7SgLwy-Ph"
      },
      "source": [
        "# Import Libraries"
      ]
    },
    {
      "cell_type": "code",
      "source": [
        "!pip install lazypredict"
      ],
      "metadata": {
        "colab": {
          "base_uri": "https://localhost:8080/"
        },
        "id": "SFgv5ViWKNhn",
        "outputId": "f521a422-6e50-4a22-f3cd-7d5e69afac0c"
      },
      "execution_count": null,
      "outputs": [
        {
          "output_type": "stream",
          "name": "stdout",
          "text": [
            "Looking in indexes: https://pypi.org/simple, https://us-python.pkg.dev/colab-wheels/public/simple/\n",
            "Collecting lazypredict\n",
            "  Downloading lazypredict-0.2.12-py2.py3-none-any.whl (12 kB)\n",
            "Requirement already satisfied: scikit-learn in /usr/local/lib/python3.8/dist-packages (from lazypredict) (1.0.2)\n",
            "Requirement already satisfied: joblib in /usr/local/lib/python3.8/dist-packages (from lazypredict) (1.2.0)\n",
            "Requirement already satisfied: lightgbm in /usr/local/lib/python3.8/dist-packages (from lazypredict) (2.2.3)\n",
            "Requirement already satisfied: tqdm in /usr/local/lib/python3.8/dist-packages (from lazypredict) (4.64.1)\n",
            "Requirement already satisfied: xgboost in /usr/local/lib/python3.8/dist-packages (from lazypredict) (0.90)\n",
            "Requirement already satisfied: pandas in /usr/local/lib/python3.8/dist-packages (from lazypredict) (1.3.5)\n",
            "Requirement already satisfied: click in /usr/local/lib/python3.8/dist-packages (from lazypredict) (7.1.2)\n",
            "Requirement already satisfied: scipy in /usr/local/lib/python3.8/dist-packages (from lightgbm->lazypredict) (1.7.3)\n",
            "Requirement already satisfied: numpy in /usr/local/lib/python3.8/dist-packages (from lightgbm->lazypredict) (1.21.6)\n",
            "Requirement already satisfied: python-dateutil>=2.7.3 in /usr/local/lib/python3.8/dist-packages (from pandas->lazypredict) (2.8.2)\n",
            "Requirement already satisfied: pytz>=2017.3 in /usr/local/lib/python3.8/dist-packages (from pandas->lazypredict) (2022.7)\n",
            "Requirement already satisfied: threadpoolctl>=2.0.0 in /usr/local/lib/python3.8/dist-packages (from scikit-learn->lazypredict) (3.1.0)\n",
            "Requirement already satisfied: six>=1.5 in /usr/local/lib/python3.8/dist-packages (from python-dateutil>=2.7.3->pandas->lazypredict) (1.15.0)\n",
            "Installing collected packages: lazypredict\n",
            "Successfully installed lazypredict-0.2.12\n"
          ]
        }
      ]
    },
    {
      "cell_type": "code",
      "execution_count": null,
      "metadata": {
        "id": "zkCrjWl7y-Pm"
      },
      "outputs": [],
      "source": [
        "# import libraries\n",
        "import pandas as pd\n",
        "import numpy as np\n",
        "import seaborn as sns\n",
        "sns.set()\n",
        "import matplotlib.pyplot as plt\n",
        "from sklearn import metrics\n",
        "from sklearn.model_selection import cross_val_predict\n",
        "from sklearn.ensemble import RandomForestClassifier, HistGradientBoostingClassifier, GradientBoostingClassifier\n",
        "from imblearn.over_sampling import SMOTE, RandomOverSampler\n",
        "from imblearn.under_sampling import EditedNearestNeighbours, RandomUnderSampler\n",
        "from sklearn.preprocessing import RobustScaler, MinMaxScaler\n",
        "from xgboost import XGBClassifier\n",
        "from lazypredict.Supervised import LazyClassifier, LazyRegressor\n",
        "from sklearn.utils import shuffle\n",
        "from yellowbrick.classifier import ROCAUC\n",
        "from lightgbm import LGBMClassifier\n",
        "from sklearn.model_selection import StratifiedKFold\n",
        "from yellowbrick.model_selection import CVScores\n",
        "from sklearn.metrics import precision_recall_curve\n",
        "from sklearn.metrics import auc\n",
        "from sklearn.linear_model import LogisticRegression\n",
        "from sklearn.metrics import confusion_matrix, classification_report, roc_auc_score, roc_curve\n",
        "from sklearn.metrics import confusion_matrix , ConfusionMatrixDisplay\n",
        "from sklearn.model_selection import RepeatedStratifiedKFold\n",
        "from sklearn.svm import SVC\n",
        "from sklearn.model_selection import learning_curve, GridSearchCV\n",
        "from sklearn.model_selection import RandomizedSearchCV\n",
        "from sklearn.model_selection import GridSearchCV\n",
        "from sklearn.metrics import accuracy_score, precision_score, recall_score,f1_score\n",
        "from sklearn.tree import DecisionTreeClassifier\n",
        "import pandas as pd\n",
        "from sklearn.ensemble import RandomForestClassifier\n",
        "from sklearn.model_selection import train_test_split\n",
        "from sklearn.metrics import classification_report"
      ]
    },
    {
      "cell_type": "code",
      "source": [
        "!pip install --upgrade --force-reinstall xlrd"
      ],
      "metadata": {
        "colab": {
          "base_uri": "https://localhost:8080/"
        },
        "id": "ydfrigowURg1",
        "outputId": "b1273d0e-4cf2-480e-a5e7-e22b63ae9623"
      },
      "execution_count": null,
      "outputs": [
        {
          "output_type": "stream",
          "name": "stdout",
          "text": [
            "Looking in indexes: https://pypi.org/simple, https://us-python.pkg.dev/colab-wheels/public/simple/\n",
            "Collecting xlrd\n",
            "  Downloading xlrd-2.0.1-py2.py3-none-any.whl (96 kB)\n",
            "\u001b[2K     \u001b[90m━━━━━━━━━━━━━━━━━━━━━━━━━━━━━━━━━━━━━━━━\u001b[0m \u001b[32m96.5/96.5 KB\u001b[0m \u001b[31m5.4 MB/s\u001b[0m eta \u001b[36m0:00:00\u001b[0m\n",
            "\u001b[?25hInstalling collected packages: xlrd\n",
            "  Attempting uninstall: xlrd\n",
            "    Found existing installation: xlrd 1.2.0\n",
            "    Uninstalling xlrd-1.2.0:\n",
            "      Successfully uninstalled xlrd-1.2.0\n",
            "Successfully installed xlrd-2.0.1\n"
          ]
        }
      ]
    },
    {
      "cell_type": "markdown",
      "metadata": {
        "id": "hmP9LzlXy-Pn"
      },
      "source": [
        "# Read Datase"
      ]
    },
    {
      "cell_type": "code",
      "execution_count": null,
      "metadata": {
        "id": "Aw85kPS3y-P5"
      },
      "outputs": [],
      "source": [
        "# read train dataset\n",
        "default_df = pd.read_csv(\"/content/drive/MyDrive/Credit- Card-Default/UCI_Credit_Card.csv\")"
      ]
    },
    {
      "cell_type": "code",
      "execution_count": null,
      "metadata": {
        "colab": {
          "base_uri": "https://localhost:8080/"
        },
        "id": "ZNRWoU30y-P6",
        "outputId": "ba792730-5f37-4bcf-e0a5-6e7268fe6c3b"
      },
      "outputs": [
        {
          "output_type": "execute_result",
          "data": {
            "text/plain": [
              "          ID  LIMIT_BAL  SEX  EDUCATION  MARRIAGE  AGE  PAY_0  PAY_2  PAY_3  \\\n",
              "4062    4063  110000.00    2          3         1   44      0      0      0   \n",
              "16782  16783   20000.00    1          2         2   31      0      0      0   \n",
              "25936  25937  260000.00    2          1         1   30      1     -2     -2   \n",
              "1463    1464  300000.00    2          2         1   50     -1     -1     -1   \n",
              "18496  18497  170000.00    2          2         2   25      0      0      0   \n",
              "13220  13221   30000.00    1          2         2   25      0      0      0   \n",
              "17700  17701  170000.00    2          2         1   49     -1      0      0   \n",
              "22923  22924  500000.00    2          1         1   36      0      0      0   \n",
              "28760  28761  140000.00    2          2         1   33      0      0      0   \n",
              "17774  17775  110000.00    2          2         1   54      2      2      2   \n",
              "\n",
              "       PAY_4  ...  BILL_AMT4  BILL_AMT5  BILL_AMT6  PAY_AMT1  PAY_AMT2  \\\n",
              "4062       0  ...  135888.00  137708.00   78581.00   4861.00   4300.00   \n",
              "16782      0  ...   17164.00   17294.00   16110.00   1230.00   1265.00   \n",
              "25936     -2  ...       0.00       0.00   36150.00      0.00      0.00   \n",
              "1463       0  ...  110680.00  104016.00  109839.00   3131.00 121715.00   \n",
              "18496      0  ...   42793.00   30466.00   25583.00   2019.00   2006.00   \n",
              "13220      0  ...   18794.00   23530.00   23531.00   1338.00   1500.00   \n",
              "17700      0  ...   15429.00   16594.00   14035.00   3557.00   8245.00   \n",
              "22923     -1  ...   15406.00    6196.00   45045.00  26000.00  11725.00   \n",
              "28760     -2  ...   -1037.00   66441.00   68365.00   3133.00      0.00   \n",
              "17774      0  ...   92097.00   96509.00   93773.00   3400.00      0.00   \n",
              "\n",
              "       PAY_AMT3  PAY_AMT4  PAY_AMT5  PAY_AMT6  default.payment.next.month  \n",
              "4062    3500.00   3500.00   2564.00   2300.00                           0  \n",
              "16782   2192.00    694.00      0.00   3134.00                           1  \n",
              "25936      0.00      0.00  36150.00      0.00                           0  \n",
              "1463    4000.00   5000.00   9000.00   5000.00                           0  \n",
              "18496   2002.00    788.00    989.00   1000.00                           0  \n",
              "13220   1000.00   5000.00   2000.00     24.00                           0  \n",
              "17700   5429.00   4500.00   5415.00   6000.00                           0  \n",
              "22923  15406.00   6903.00  45045.00  10000.00                           0  \n",
              "28760      0.00  68383.00   3000.00   3096.00                           0  \n",
              "17774   3290.00   7000.00      0.00   3500.00                           1  \n",
              "\n",
              "[10 rows x 25 columns]"
            ],
            "text/html": [
              "\n",
              "  <div id=\"df-a314a5fb-3d5e-474c-918b-ea0b9f79e1a8\">\n",
              "    <div class=\"colab-df-container\">\n",
              "      <div>\n",
              "<style scoped>\n",
              "    .dataframe tbody tr th:only-of-type {\n",
              "        vertical-align: middle;\n",
              "    }\n",
              "\n",
              "    .dataframe tbody tr th {\n",
              "        vertical-align: top;\n",
              "    }\n",
              "\n",
              "    .dataframe thead th {\n",
              "        text-align: right;\n",
              "    }\n",
              "</style>\n",
              "<table border=\"1\" class=\"dataframe\">\n",
              "  <thead>\n",
              "    <tr style=\"text-align: right;\">\n",
              "      <th></th>\n",
              "      <th>ID</th>\n",
              "      <th>LIMIT_BAL</th>\n",
              "      <th>SEX</th>\n",
              "      <th>EDUCATION</th>\n",
              "      <th>MARRIAGE</th>\n",
              "      <th>AGE</th>\n",
              "      <th>PAY_0</th>\n",
              "      <th>PAY_2</th>\n",
              "      <th>PAY_3</th>\n",
              "      <th>PAY_4</th>\n",
              "      <th>...</th>\n",
              "      <th>BILL_AMT4</th>\n",
              "      <th>BILL_AMT5</th>\n",
              "      <th>BILL_AMT6</th>\n",
              "      <th>PAY_AMT1</th>\n",
              "      <th>PAY_AMT2</th>\n",
              "      <th>PAY_AMT3</th>\n",
              "      <th>PAY_AMT4</th>\n",
              "      <th>PAY_AMT5</th>\n",
              "      <th>PAY_AMT6</th>\n",
              "      <th>default.payment.next.month</th>\n",
              "    </tr>\n",
              "  </thead>\n",
              "  <tbody>\n",
              "    <tr>\n",
              "      <th>4062</th>\n",
              "      <td>4063</td>\n",
              "      <td>110000.00</td>\n",
              "      <td>2</td>\n",
              "      <td>3</td>\n",
              "      <td>1</td>\n",
              "      <td>44</td>\n",
              "      <td>0</td>\n",
              "      <td>0</td>\n",
              "      <td>0</td>\n",
              "      <td>0</td>\n",
              "      <td>...</td>\n",
              "      <td>135888.00</td>\n",
              "      <td>137708.00</td>\n",
              "      <td>78581.00</td>\n",
              "      <td>4861.00</td>\n",
              "      <td>4300.00</td>\n",
              "      <td>3500.00</td>\n",
              "      <td>3500.00</td>\n",
              "      <td>2564.00</td>\n",
              "      <td>2300.00</td>\n",
              "      <td>0</td>\n",
              "    </tr>\n",
              "    <tr>\n",
              "      <th>16782</th>\n",
              "      <td>16783</td>\n",
              "      <td>20000.00</td>\n",
              "      <td>1</td>\n",
              "      <td>2</td>\n",
              "      <td>2</td>\n",
              "      <td>31</td>\n",
              "      <td>0</td>\n",
              "      <td>0</td>\n",
              "      <td>0</td>\n",
              "      <td>0</td>\n",
              "      <td>...</td>\n",
              "      <td>17164.00</td>\n",
              "      <td>17294.00</td>\n",
              "      <td>16110.00</td>\n",
              "      <td>1230.00</td>\n",
              "      <td>1265.00</td>\n",
              "      <td>2192.00</td>\n",
              "      <td>694.00</td>\n",
              "      <td>0.00</td>\n",
              "      <td>3134.00</td>\n",
              "      <td>1</td>\n",
              "    </tr>\n",
              "    <tr>\n",
              "      <th>25936</th>\n",
              "      <td>25937</td>\n",
              "      <td>260000.00</td>\n",
              "      <td>2</td>\n",
              "      <td>1</td>\n",
              "      <td>1</td>\n",
              "      <td>30</td>\n",
              "      <td>1</td>\n",
              "      <td>-2</td>\n",
              "      <td>-2</td>\n",
              "      <td>-2</td>\n",
              "      <td>...</td>\n",
              "      <td>0.00</td>\n",
              "      <td>0.00</td>\n",
              "      <td>36150.00</td>\n",
              "      <td>0.00</td>\n",
              "      <td>0.00</td>\n",
              "      <td>0.00</td>\n",
              "      <td>0.00</td>\n",
              "      <td>36150.00</td>\n",
              "      <td>0.00</td>\n",
              "      <td>0</td>\n",
              "    </tr>\n",
              "    <tr>\n",
              "      <th>1463</th>\n",
              "      <td>1464</td>\n",
              "      <td>300000.00</td>\n",
              "      <td>2</td>\n",
              "      <td>2</td>\n",
              "      <td>1</td>\n",
              "      <td>50</td>\n",
              "      <td>-1</td>\n",
              "      <td>-1</td>\n",
              "      <td>-1</td>\n",
              "      <td>0</td>\n",
              "      <td>...</td>\n",
              "      <td>110680.00</td>\n",
              "      <td>104016.00</td>\n",
              "      <td>109839.00</td>\n",
              "      <td>3131.00</td>\n",
              "      <td>121715.00</td>\n",
              "      <td>4000.00</td>\n",
              "      <td>5000.00</td>\n",
              "      <td>9000.00</td>\n",
              "      <td>5000.00</td>\n",
              "      <td>0</td>\n",
              "    </tr>\n",
              "    <tr>\n",
              "      <th>18496</th>\n",
              "      <td>18497</td>\n",
              "      <td>170000.00</td>\n",
              "      <td>2</td>\n",
              "      <td>2</td>\n",
              "      <td>2</td>\n",
              "      <td>25</td>\n",
              "      <td>0</td>\n",
              "      <td>0</td>\n",
              "      <td>0</td>\n",
              "      <td>0</td>\n",
              "      <td>...</td>\n",
              "      <td>42793.00</td>\n",
              "      <td>30466.00</td>\n",
              "      <td>25583.00</td>\n",
              "      <td>2019.00</td>\n",
              "      <td>2006.00</td>\n",
              "      <td>2002.00</td>\n",
              "      <td>788.00</td>\n",
              "      <td>989.00</td>\n",
              "      <td>1000.00</td>\n",
              "      <td>0</td>\n",
              "    </tr>\n",
              "    <tr>\n",
              "      <th>13220</th>\n",
              "      <td>13221</td>\n",
              "      <td>30000.00</td>\n",
              "      <td>1</td>\n",
              "      <td>2</td>\n",
              "      <td>2</td>\n",
              "      <td>25</td>\n",
              "      <td>0</td>\n",
              "      <td>0</td>\n",
              "      <td>0</td>\n",
              "      <td>0</td>\n",
              "      <td>...</td>\n",
              "      <td>18794.00</td>\n",
              "      <td>23530.00</td>\n",
              "      <td>23531.00</td>\n",
              "      <td>1338.00</td>\n",
              "      <td>1500.00</td>\n",
              "      <td>1000.00</td>\n",
              "      <td>5000.00</td>\n",
              "      <td>2000.00</td>\n",
              "      <td>24.00</td>\n",
              "      <td>0</td>\n",
              "    </tr>\n",
              "    <tr>\n",
              "      <th>17700</th>\n",
              "      <td>17701</td>\n",
              "      <td>170000.00</td>\n",
              "      <td>2</td>\n",
              "      <td>2</td>\n",
              "      <td>1</td>\n",
              "      <td>49</td>\n",
              "      <td>-1</td>\n",
              "      <td>0</td>\n",
              "      <td>0</td>\n",
              "      <td>0</td>\n",
              "      <td>...</td>\n",
              "      <td>15429.00</td>\n",
              "      <td>16594.00</td>\n",
              "      <td>14035.00</td>\n",
              "      <td>3557.00</td>\n",
              "      <td>8245.00</td>\n",
              "      <td>5429.00</td>\n",
              "      <td>4500.00</td>\n",
              "      <td>5415.00</td>\n",
              "      <td>6000.00</td>\n",
              "      <td>0</td>\n",
              "    </tr>\n",
              "    <tr>\n",
              "      <th>22923</th>\n",
              "      <td>22924</td>\n",
              "      <td>500000.00</td>\n",
              "      <td>2</td>\n",
              "      <td>1</td>\n",
              "      <td>1</td>\n",
              "      <td>36</td>\n",
              "      <td>0</td>\n",
              "      <td>0</td>\n",
              "      <td>0</td>\n",
              "      <td>-1</td>\n",
              "      <td>...</td>\n",
              "      <td>15406.00</td>\n",
              "      <td>6196.00</td>\n",
              "      <td>45045.00</td>\n",
              "      <td>26000.00</td>\n",
              "      <td>11725.00</td>\n",
              "      <td>15406.00</td>\n",
              "      <td>6903.00</td>\n",
              "      <td>45045.00</td>\n",
              "      <td>10000.00</td>\n",
              "      <td>0</td>\n",
              "    </tr>\n",
              "    <tr>\n",
              "      <th>28760</th>\n",
              "      <td>28761</td>\n",
              "      <td>140000.00</td>\n",
              "      <td>2</td>\n",
              "      <td>2</td>\n",
              "      <td>1</td>\n",
              "      <td>33</td>\n",
              "      <td>0</td>\n",
              "      <td>0</td>\n",
              "      <td>0</td>\n",
              "      <td>-2</td>\n",
              "      <td>...</td>\n",
              "      <td>-1037.00</td>\n",
              "      <td>66441.00</td>\n",
              "      <td>68365.00</td>\n",
              "      <td>3133.00</td>\n",
              "      <td>0.00</td>\n",
              "      <td>0.00</td>\n",
              "      <td>68383.00</td>\n",
              "      <td>3000.00</td>\n",
              "      <td>3096.00</td>\n",
              "      <td>0</td>\n",
              "    </tr>\n",
              "    <tr>\n",
              "      <th>17774</th>\n",
              "      <td>17775</td>\n",
              "      <td>110000.00</td>\n",
              "      <td>2</td>\n",
              "      <td>2</td>\n",
              "      <td>1</td>\n",
              "      <td>54</td>\n",
              "      <td>2</td>\n",
              "      <td>2</td>\n",
              "      <td>2</td>\n",
              "      <td>0</td>\n",
              "      <td>...</td>\n",
              "      <td>92097.00</td>\n",
              "      <td>96509.00</td>\n",
              "      <td>93773.00</td>\n",
              "      <td>3400.00</td>\n",
              "      <td>0.00</td>\n",
              "      <td>3290.00</td>\n",
              "      <td>7000.00</td>\n",
              "      <td>0.00</td>\n",
              "      <td>3500.00</td>\n",
              "      <td>1</td>\n",
              "    </tr>\n",
              "  </tbody>\n",
              "</table>\n",
              "<p>10 rows × 25 columns</p>\n",
              "</div>\n",
              "      <button class=\"colab-df-convert\" onclick=\"convertToInteractive('df-a314a5fb-3d5e-474c-918b-ea0b9f79e1a8')\"\n",
              "              title=\"Convert this dataframe to an interactive table.\"\n",
              "              style=\"display:none;\">\n",
              "        \n",
              "  <svg xmlns=\"http://www.w3.org/2000/svg\" height=\"24px\"viewBox=\"0 0 24 24\"\n",
              "       width=\"24px\">\n",
              "    <path d=\"M0 0h24v24H0V0z\" fill=\"none\"/>\n",
              "    <path d=\"M18.56 5.44l.94 2.06.94-2.06 2.06-.94-2.06-.94-.94-2.06-.94 2.06-2.06.94zm-11 1L8.5 8.5l.94-2.06 2.06-.94-2.06-.94L8.5 2.5l-.94 2.06-2.06.94zm10 10l.94 2.06.94-2.06 2.06-.94-2.06-.94-.94-2.06-.94 2.06-2.06.94z\"/><path d=\"M17.41 7.96l-1.37-1.37c-.4-.4-.92-.59-1.43-.59-.52 0-1.04.2-1.43.59L10.3 9.45l-7.72 7.72c-.78.78-.78 2.05 0 2.83L4 21.41c.39.39.9.59 1.41.59.51 0 1.02-.2 1.41-.59l7.78-7.78 2.81-2.81c.8-.78.8-2.07 0-2.86zM5.41 20L4 18.59l7.72-7.72 1.47 1.35L5.41 20z\"/>\n",
              "  </svg>\n",
              "      </button>\n",
              "      \n",
              "  <style>\n",
              "    .colab-df-container {\n",
              "      display:flex;\n",
              "      flex-wrap:wrap;\n",
              "      gap: 12px;\n",
              "    }\n",
              "\n",
              "    .colab-df-convert {\n",
              "      background-color: #E8F0FE;\n",
              "      border: none;\n",
              "      border-radius: 50%;\n",
              "      cursor: pointer;\n",
              "      display: none;\n",
              "      fill: #1967D2;\n",
              "      height: 32px;\n",
              "      padding: 0 0 0 0;\n",
              "      width: 32px;\n",
              "    }\n",
              "\n",
              "    .colab-df-convert:hover {\n",
              "      background-color: #E2EBFA;\n",
              "      box-shadow: 0px 1px 2px rgba(60, 64, 67, 0.3), 0px 1px 3px 1px rgba(60, 64, 67, 0.15);\n",
              "      fill: #174EA6;\n",
              "    }\n",
              "\n",
              "    [theme=dark] .colab-df-convert {\n",
              "      background-color: #3B4455;\n",
              "      fill: #D2E3FC;\n",
              "    }\n",
              "\n",
              "    [theme=dark] .colab-df-convert:hover {\n",
              "      background-color: #434B5C;\n",
              "      box-shadow: 0px 1px 3px 1px rgba(0, 0, 0, 0.15);\n",
              "      filter: drop-shadow(0px 1px 2px rgba(0, 0, 0, 0.3));\n",
              "      fill: #FFFFFF;\n",
              "    }\n",
              "  </style>\n",
              "\n",
              "      <script>\n",
              "        const buttonEl =\n",
              "          document.querySelector('#df-a314a5fb-3d5e-474c-918b-ea0b9f79e1a8 button.colab-df-convert');\n",
              "        buttonEl.style.display =\n",
              "          google.colab.kernel.accessAllowed ? 'block' : 'none';\n",
              "\n",
              "        async function convertToInteractive(key) {\n",
              "          const element = document.querySelector('#df-a314a5fb-3d5e-474c-918b-ea0b9f79e1a8');\n",
              "          const dataTable =\n",
              "            await google.colab.kernel.invokeFunction('convertToInteractive',\n",
              "                                                     [key], {});\n",
              "          if (!dataTable) return;\n",
              "\n",
              "          const docLinkHtml = 'Like what you see? Visit the ' +\n",
              "            '<a target=\"_blank\" href=https://colab.research.google.com/notebooks/data_table.ipynb>data table notebook</a>'\n",
              "            + ' to learn more about interactive tables.';\n",
              "          element.innerHTML = '';\n",
              "          dataTable['output_type'] = 'display_data';\n",
              "          await google.colab.output.renderOutput(dataTable, element);\n",
              "          const docLink = document.createElement('div');\n",
              "          docLink.innerHTML = docLinkHtml;\n",
              "          element.appendChild(docLink);\n",
              "        }\n",
              "      </script>\n",
              "    </div>\n",
              "  </div>\n",
              "  "
            ]
          },
          "metadata": {},
          "execution_count": 5
        }
      ],
      "source": [
        "# show random 10 sample of our dataset\n",
        "default_df.sample(10)"
      ]
    },
    {
      "cell_type": "markdown",
      "source": [
        "# Rename columns"
      ],
      "metadata": {
        "id": "dK5WdkpjZsIm"
      }
    },
    {
      "cell_type": "code",
      "source": [
        "default_df['Defaulter'] =default_df ['default.payment.next.month']\n",
        "default_df=default_df.drop('default.payment.next.month',axis = 1)"
      ],
      "metadata": {
        "id": "pR4YcfXuaQee"
      },
      "execution_count": null,
      "outputs": []
    },
    {
      "cell_type": "code",
      "source": [
        "#renaming columns \n",
        "default_df.rename(columns={'PAY_0':'PAY_SEPT','PAY_2':'PAY_AUG','PAY_3':'PAY_JUL','PAY_4':'PAY_JUN','PAY_5':'PAY_MAY','PAY_6':'PAY_APR'},inplace=True)\n",
        "default_df.rename(columns={'BILL_AMT1':'BILL_AMT_SEPT','BILL_AMT2':'BILL_AMT_AUG','BILL_AMT3':'BILL_AMT_JUL','BILL_AMT4':'BILL_AMT_JUN','BILL_AMT5':'BILL_AMT_MAY','BILL_AMT6':'BILL_AMT_APR'}, inplace = True)\n",
        "default_df.rename(columns={'PAY_AMT1':'PAY_AMT_SEPT','PAY_AMT2':'PAY_AMT_AUG','PAY_AMT3':'PAY_AMT_JUL','PAY_AMT4':'PAY_AMT_JUN','PAY_AMT5':'PAY_AMT_MAY','PAY_AMT6':'PAY_AMT_APR'},inplace=True)"
      ],
      "metadata": {
        "id": "GQCkXTwAZur2"
      },
      "execution_count": null,
      "outputs": []
    },
    {
      "cell_type": "code",
      "execution_count": null,
      "metadata": {
        "id": "ofD6lBOJy-QE"
      },
      "outputs": [],
      "source": [
        "default_df[\"EDUCATION\"]=default_df[\"EDUCATION\"].map({0:4,1:1,2:2,3:3,4:4,5:4,6:4})"
      ]
    },
    {
      "cell_type": "code",
      "execution_count": null,
      "metadata": {
        "id": "BQnJK3YEEJ8Q"
      },
      "outputs": [],
      "source": [
        "default_df[\"MARRIAGE\"]=default_df[\"MARRIAGE\"].map({0:3,1:1,2:2,3:3})"
      ]
    },
    {
      "cell_type": "markdown",
      "metadata": {
        "id": "449rMOgGy-QO"
      },
      "source": [
        "# Feature Engineering\n"
      ]
    },
    {
      "cell_type": "code",
      "execution_count": null,
      "metadata": {
        "id": "R3ae4r0VVy7_"
      },
      "outputs": [],
      "source": [
        "# Define a function that applies the logic to each row\n",
        "def create_new_feature(row):\n",
        "    new_feature = 0\n",
        "    for feature in row[['PAY_SEPT','PAY_AUG', 'PAY_JUL', 'PAY_JUN', 'PAY_MAY', 'PAY_APR']]:\n",
        "        if feature > 0:\n",
        "            new_feature += feature\n",
        "            if new_feature > 9:\n",
        "              new_feature = 9\n",
        "    return new_feature\n",
        "\n",
        "# Create the new column by applying the function to each row\n",
        "default_df['Delay_months'] = default_df.apply(create_new_feature, axis=1)"
      ]
    },
    {
      "cell_type": "markdown",
      "source": [
        "# Splitting target from features"
      ],
      "metadata": {
        "id": "TJ_ppIJflH7x"
      }
    },
    {
      "cell_type": "code",
      "source": [
        "X=default_df.drop(['Defaulter','Delay_months'],axis = 1)\n",
        "y=default_df['Delay_months']"
      ],
      "metadata": {
        "id": "YlgbkWsMoB2p"
      },
      "execution_count": null,
      "outputs": []
    },
    {
      "cell_type": "code",
      "source": [
        "y = y.astype('int64')"
      ],
      "metadata": {
        "id": "3xa0k0S7pj4g"
      },
      "execution_count": null,
      "outputs": []
    },
    {
      "cell_type": "markdown",
      "source": [
        "# Confusion Matrix and classification report"
      ],
      "metadata": {
        "id": "jON6WonnRE3o"
      }
    },
    {
      "cell_type": "code",
      "source": [
        "# Print Confusion Matrix and classification report\n",
        "def eva(y_test,algo_y_pred):\n",
        "  metrics.ConfusionMatrixDisplay.from_predictions(y_test, algo_y_pred)\n",
        "  print(metrics.classification_report(y_test, algo_y_pred))\n",
        "  plt.show()"
      ],
      "metadata": {
        "id": "EIDmIMORBTLo"
      },
      "execution_count": null,
      "outputs": []
    },
    {
      "cell_type": "markdown",
      "source": [
        "# train_test_split"
      ],
      "metadata": {
        "id": "y-833jwGlTD_"
      }
    },
    {
      "cell_type": "code",
      "source": [
        "# Splitting data into train and test \n",
        "X_train, X_test, y_train, y_test = train_test_split(X, y, test_size=0.2,random_state=42, stratify = y)"
      ],
      "metadata": {
        "id": "7WX6zyy7ACXB"
      },
      "execution_count": null,
      "outputs": []
    },
    {
      "cell_type": "code",
      "source": [],
      "metadata": {
        "id": "rQ8siXXT66fa"
      },
      "execution_count": null,
      "outputs": []
    },
    {
      "cell_type": "markdown",
      "source": [
        "# Scaling with RobustScaler"
      ],
      "metadata": {
        "id": "VX06Jwxfnzkg"
      }
    },
    {
      "cell_type": "code",
      "source": [
        "# use Robust Scaler to reduce the effect of outliers in our dataset\n",
        "robust_scaler = RobustScaler()\n",
        "X_train_robust = robust_scaler.fit_transform(X_train)\n",
        "X_test_robust = robust_scaler.transform(X_test) "
      ],
      "metadata": {
        "id": "DKIo7pqW3npm"
      },
      "execution_count": null,
      "outputs": []
    },
    {
      "cell_type": "markdown",
      "source": [
        "# BaseLine"
      ],
      "metadata": {
        "id": "nLaiKifagnO9"
      }
    },
    {
      "cell_type": "code",
      "source": [
        "base_line = [y_test.mean()] * len(y_test)"
      ],
      "metadata": {
        "id": "93p5mdsz6eR6"
      },
      "execution_count": null,
      "outputs": []
    },
    {
      "cell_type": "code",
      "source": [
        "mae_base_line = metrics.mean_absolute_error(y_test, base_line)\n",
        "print(f'Mean Absolute Error for Base line Model = {mae_base_line}')"
      ],
      "metadata": {
        "colab": {
          "base_uri": "https://localhost:8080/"
        },
        "id": "1W2jAYXw7GQT",
        "outputId": "32a4f409-68f2-4606-8649-e7b90d1bf2a8"
      },
      "execution_count": null,
      "outputs": [
        {
          "output_type": "stream",
          "name": "stdout",
          "text": [
            "Mean Absolute Error for Base line Model = 1.96212\n"
          ]
        }
      ]
    },
    {
      "cell_type": "markdown",
      "source": [
        "## Decision Tree SMOTE"
      ],
      "metadata": {
        "id": "u9BTIor86e75"
      }
    },
    {
      "cell_type": "code",
      "source": [
        "dt_classifier = DecisionTreeClassifier()\n",
        "dt_classifier.fit(X_train_robust, y_train)\n",
        "\n",
        "# Perform cross-validation and make predictions on the testing data\n",
        "dt_y_pred = cross_val_predict(dt_classifier, X_test_robust, y_test, cv=5)\n",
        "\n",
        "# Evaluate the model using classification metrics\n",
        "print(\"F1 Score:\", f1_score(y_test, dt_y_pred, average=\"weighted\"))\n",
        "print(\"Precision:\", precision_score(y_test, dt_y_pred, average=\"weighted\"))\n",
        "print(\"Recall:\", recall_score(y_test, dt_y_pred, average=\"weighted\"))\n",
        "print(\"Confusion Matrix:\\n\", confusion_matrix(y_test, dt_y_pred))\n",
        "\n"
      ],
      "metadata": {
        "colab": {
          "base_uri": "https://localhost:8080/"
        },
        "outputId": "bcf4e017-6a41-40f9-d94a-0d88ab322cdf",
        "id": "gDorHSin6e76"
      },
      "execution_count": null,
      "outputs": [
        {
          "output_type": "stream",
          "name": "stdout",
          "text": [
            "F1 Score: 0.9841680954186925\n",
            "Precision: 0.9841859966694573\n",
            "Recall: 0.9841666666666666\n",
            "Confusion Matrix:\n",
            " [[3986    0    0    0    0    0    0    0    0    0]\n",
            " [   0  331    2    0    0    0    0    0    0    0]\n",
            " [   0    1  550    0    1    1    0    0    0    0]\n",
            " [   0    0    0  141    2    3    3    0    0    0]\n",
            " [   0    0    6    0  193    0    8    0    0    0]\n",
            " [   0    0    0    3    1   88    2    3    0    0]\n",
            " [   0    0    0    2    8    2  105    2    4    2]\n",
            " [   0    0    0    1    0    2    5   66    3    1]\n",
            " [   0    0    0    0    0    0    4    3   88    8]\n",
            " [   0    0    0    0    0    1    1    2    8  357]]\n"
          ]
        }
      ]
    },
    {
      "cell_type": "markdown",
      "source": [
        "## LGBMClassifier SMOTE "
      ],
      "metadata": {
        "id": "Cun6xaFaR5P_"
      }
    },
    {
      "cell_type": "code",
      "source": [
        "# LGBMClassifier with scaled data\n",
        "lgbm_classifier = LGBMClassifier(random_state=42)\n",
        "lgbm_classifier.fit(X_train_robust, y_train)\n",
        "\n",
        "# Perform cross-validation and make predictions on the testing data\n",
        "lgbm_y_pred = cross_val_predict(lgbm_classifier, X_test_robust, y_test, cv=5)\n",
        "\n",
        "# Evaluate the model using classification metrics\n",
        "print(\"F1 Score:\", f1_score(y_test, lgbm_y_pred, average=\"weighted\"))\n",
        "print(\"Precision:\", precision_score(y_test, lgbm_y_pred, average=\"weighted\"))\n",
        "print(\"Recall:\", recall_score(y_test, lgbm_y_pred, average=\"weighted\"))\n",
        "print(\"Confusion Matrix:\\n\", confusion_matrix(y_test, lgbm_y_pred))\n"
      ],
      "metadata": {
        "colab": {
          "base_uri": "https://localhost:8080/"
        },
        "id": "kRKmypYJFQHi",
        "outputId": "2e84f359-6e2a-470b-bfdd-84cfe1437432"
      },
      "execution_count": null,
      "outputs": [
        {
          "output_type": "stream",
          "name": "stdout",
          "text": [
            "F1 Score: 0.9669226355548285\n",
            "Precision: 0.9671156701925789\n",
            "Recall: 0.968\n",
            "Confusion Matrix:\n",
            " [[3986    0    0    0    0    0    0    0    0    0]\n",
            " [   0  333    0    0    0    0    0    0    0    0]\n",
            " [   0    0  550    1    1    1    0    0    0    0]\n",
            " [   0   11    8  128    0    1    0    1    0    0]\n",
            " [   0    0   19    0  179    2    5    0    2    0]\n",
            " [   0    3    0   10    9   68    1    3    1    2]\n",
            " [   0    0    1    1   28    2   86    2    3    2]\n",
            " [   0    0    0    1    4   11    5   46    1   10]\n",
            " [   0    0    0    0    4    1    9    1   76   12]\n",
            " [   0    0    0    0    1    1    2    1    8  356]]\n"
          ]
        }
      ]
    },
    {
      "cell_type": "markdown",
      "source": [
        "## HistGradientBoostingClassifier SMOTE"
      ],
      "metadata": {
        "id": "xmAIFrR0an5i"
      }
    },
    {
      "cell_type": "code",
      "source": [
        "# HistGradientBoostingClassifier with scaled data\n",
        "hist_classifier = HistGradientBoostingClassifier(random_state=42)\n",
        "hist_classifier.fit(X_train_robust, y_train)\n",
        "# Perform cross-validation and make predictions on the testing data\n",
        "hist_y_pred = cross_val_predict(hist_classifier, X_test_robust, y_test, cv=5)\n",
        "# Evaluate the model using classification metrics\n",
        "print(\"F1 Score:\", f1_score(y_test, hist_y_pred, average=\"weighted\"))\n",
        "print(\"Precision:\", precision_score(y_test, hist_y_pred, average=\"weighted\"))\n",
        "print(\"Recall:\", recall_score(y_test, hist_y_pred, average=\"weighted\"))\n",
        "print(\"Confusion Matrix:\\n\", confusion_matrix(y_test, hist_y_pred))"
      ],
      "metadata": {
        "colab": {
          "base_uri": "https://localhost:8080/"
        },
        "id": "i5PUgp6naJqN",
        "outputId": "ec3ef221-a716-4956-92fc-f379754af1c5"
      },
      "execution_count": null,
      "outputs": [
        {
          "output_type": "stream",
          "name": "stdout",
          "text": [
            "F1 Score: 0.9688050705715012\n",
            "Precision: 0.9686515602728699\n",
            "Recall: 0.9696666666666667\n",
            "Confusion Matrix:\n",
            " [[3986    0    0    0    0    0    0    0    0    0]\n",
            " [   0  333    0    0    0    0    0    0    0    0]\n",
            " [   0    0  552    0    0    1    0    0    0    0]\n",
            " [   0    8    6  132    0    2    0    1    0    0]\n",
            " [   0    0   21    0  176    2    7    0    1    0]\n",
            " [   0    2    2   10    9   70    1    2    1    0]\n",
            " [   0    0    1    0   27    3   84    3    5    2]\n",
            " [   0    0    0    2    1   10   10   49    1    5]\n",
            " [   0    0    0    0    2    1    7    2   81   10]\n",
            " [   0    0    0    0    0    1    1    2   10  355]]\n"
          ]
        }
      ]
    },
    {
      "cell_type": "markdown",
      "source": [
        "## RANDOM FOREST SMOTE "
      ],
      "metadata": {
        "id": "UpVGJWUTRoCw"
      }
    },
    {
      "cell_type": "code",
      "source": [
        "# RandomForestClassifier with scaling data and with oversampling using SMOTE\n",
        "rfc_classifier=RandomForestClassifier(random_state=42)\n",
        "rfc_classifier.fit(X_train_robust, y_train)\n",
        "# Perform cross-validation and make predictions on the testing data\n",
        "rfc_y_pred = cross_val_predict(rfc_classifier, X_test_robust, y_test, cv=5)\n",
        "# Evaluate the model using classification metrics\n",
        "print(\"F1 Score:\", f1_score(y_test, rfc_y_pred, average=\"weighted\"))\n",
        "print(\"Precision:\", precision_score(y_test, rfc_y_pred, average=\"weighted\"))\n",
        "print(\"Recall:\", recall_score(y_test, rfc_y_pred, average=\"weighted\"))\n",
        "print(\"Confusion Matrix:\\n\", confusion_matrix(y_test, rfc_y_pred))"
      ],
      "metadata": {
        "colab": {
          "base_uri": "https://localhost:8080/"
        },
        "id": "kGJN0NH1Ef__",
        "outputId": "a1b6c3d9-3b94-48bc-e68a-4517f3643ba8"
      },
      "execution_count": null,
      "outputs": [
        {
          "output_type": "stream",
          "name": "stdout",
          "text": [
            "F1 Score: 0.9713134914167575\n",
            "Precision: 0.9714415122044634\n",
            "Recall: 0.9718333333333333\n",
            "Confusion Matrix:\n",
            " [[3986    0    0    0    0    0    0    0    0    0]\n",
            " [   0  333    0    0    0    0    0    0    0    0]\n",
            " [   3    1  545    4    0    0    0    0    0    0]\n",
            " [   0   13    6  130    0    0    0    0    0    0]\n",
            " [   1    0   25    0  181    0    0    0    0    0]\n",
            " [   0    1    0    4   18   70    4    0    0    0]\n",
            " [   0    0    1    0   20    7   95    1    1    0]\n",
            " [   0    0    0    0    2    9   11   54    1    1]\n",
            " [   0    0    0    0    1    0    2    5   87    8]\n",
            " [   0    0    0    0    0    0    2    4   13  350]]\n"
          ]
        }
      ]
    },
    {
      "cell_type": "markdown",
      "source": [
        "## XGBClassifier SMOTE"
      ],
      "metadata": {
        "id": "8l_K4gnjUCtn"
      }
    },
    {
      "cell_type": "code",
      "source": [
        "# XGBClassifier with scaled data and with oversampling using SMOTE\n",
        "xgb_clf = XGBClassifier(random_state=42)\n",
        "xgb_clf.fit(X_train_robust, y_train)\n",
        "# Perform cross-validation and make predictions on the testing data\n",
        "xgb_y_pred = cross_val_predict(xgb_clf, X_test_robust, y_test, cv=5)\n",
        "# Evaluate the model using classification metrics\n",
        "print(\"F1 Score:\", f1_score(y_test, xgb_y_pred, average=\"weighted\"))\n",
        "print(\"Precision:\", precision_score(y_test, xgb_y_pred, average=\"weighted\"))\n",
        "print(\"Recall:\", recall_score(y_test, xgb_y_pred, average=\"weighted\"))\n",
        "print(\"Confusion Matrix:\\n\", confusion_matrix(y_test, xgb_y_pred))\n"
      ],
      "metadata": {
        "colab": {
          "base_uri": "https://localhost:8080/"
        },
        "id": "mcQ9pPAJCpvL",
        "outputId": "3705cbee-3357-4349-cac8-cabff342bcd3"
      },
      "execution_count": null,
      "outputs": [
        {
          "output_type": "stream",
          "name": "stdout",
          "text": [
            "F1 Score: 0.9627544802516641\n",
            "Precision: 0.9633488423518165\n",
            "Recall: 0.9641666666666666\n",
            "Confusion Matrix:\n",
            " [[3986    0    0    0    0    0    0    0    0    0]\n",
            " [   0  331    0    2    0    0    0    0    0    0]\n",
            " [   4    0  544    4    1    0    0    0    0    0]\n",
            " [   0   14    2  133    0    0    0    0    0    0]\n",
            " [   0    0   65    0  137    0    5    0    0    0]\n",
            " [   0    0    2   18    7   66    1    2    1    0]\n",
            " [   0    1    5    1   20    5   90    1    1    1]\n",
            " [   0    0    0    0    4   18    6   48    0    2]\n",
            " [   0    0    0    0    1    1    0    3   92    6]\n",
            " [   0    0    0    0    0    1    1    1    8  358]]\n"
          ]
        }
      ]
    },
    {
      "cell_type": "code",
      "source": [
        "lgbm_score = f1_score(y_test, lgbm_y_pred, average=\"weighted\")\n",
        "hist_score = f1_score(y_test, hist_y_pred, average=\"weighted\")\n",
        "xgb_score = f1_score(y_test, xgb_y_pred, average=\"weighted\")\n",
        "rfc_score = f1_score(y_test, rfc_y_pred, average=\"weighted\")\n",
        "dt_score= f1_score(y_test, dt_y_pred, average=\"weighted\")"
      ],
      "metadata": {
        "id": "xpWhvZbNUPiS"
      },
      "execution_count": null,
      "outputs": []
    },
    {
      "cell_type": "code",
      "source": [
        "import plotly.express as px"
      ],
      "metadata": {
        "id": "8DW5MCOH6QFK"
      },
      "execution_count": null,
      "outputs": []
    },
    {
      "cell_type": "code",
      "execution_count": null,
      "metadata": {
        "id": "Xxcniu9Ay-Qd"
      },
      "outputs": [],
      "source": [
        "# initialize Values\n",
        "techniques = ['Hist  Score', 'LGBM  Score', 'XGB  Score', 'DT  Score','RF Score']\n",
        "techniques_scores = [hist_score, lgbm_score, xgb_score, dt_score, rfc_score]"
      ]
    },
    {
      "cell_type": "code",
      "execution_count": null,
      "metadata": {
        "id": "mp1EWtJBy-Qd",
        "colab": {
          "base_uri": "https://localhost:8080/",
          "height": 542
        },
        "outputId": "d10d94f6-c459-4c46-a059-21dfe8d2e182"
      },
      "outputs": [
        {
          "output_type": "display_data",
          "data": {
            "text/html": [
              "<html>\n",
              "<head><meta charset=\"utf-8\" /></head>\n",
              "<body>\n",
              "    <div>            <script src=\"https://cdnjs.cloudflare.com/ajax/libs/mathjax/2.7.5/MathJax.js?config=TeX-AMS-MML_SVG\"></script><script type=\"text/javascript\">if (window.MathJax) {MathJax.Hub.Config({SVG: {font: \"STIX-Web\"}});}</script>                <script type=\"text/javascript\">window.PlotlyConfig = {MathJaxConfig: 'local'};</script>\n",
              "        <script src=\"https://cdn.plot.ly/plotly-2.8.3.min.js\"></script>                <div id=\"46eeecaa-d067-49f2-989b-1a054ce23fee\" class=\"plotly-graph-div\" style=\"height:525px; width:100%;\"></div>            <script type=\"text/javascript\">                                    window.PLOTLYENV=window.PLOTLYENV || {};                                    if (document.getElementById(\"46eeecaa-d067-49f2-989b-1a054ce23fee\")) {                    Plotly.newPlot(                        \"46eeecaa-d067-49f2-989b-1a054ce23fee\",                        [{\"alignmentgroup\":\"True\",\"hovertemplate\":\"color=Hist  Score<br>x=%{x}<br>y=%{y}<extra></extra>\",\"legendgroup\":\"Hist  Score\",\"marker\":{\"color\":\"#636efa\",\"pattern\":{\"shape\":\"\"}},\"name\":\"Hist  Score\",\"offsetgroup\":\"Hist  Score\",\"orientation\":\"v\",\"showlegend\":true,\"textposition\":\"auto\",\"x\":[\"Hist  Score\"],\"xaxis\":\"x\",\"y\":[0.9688050705715012],\"yaxis\":\"y\",\"type\":\"bar\"},{\"alignmentgroup\":\"True\",\"hovertemplate\":\"color=LGBM  Score<br>x=%{x}<br>y=%{y}<extra></extra>\",\"legendgroup\":\"LGBM  Score\",\"marker\":{\"color\":\"#EF553B\",\"pattern\":{\"shape\":\"\"}},\"name\":\"LGBM  Score\",\"offsetgroup\":\"LGBM  Score\",\"orientation\":\"v\",\"showlegend\":true,\"textposition\":\"auto\",\"x\":[\"LGBM  Score\"],\"xaxis\":\"x\",\"y\":[0.9669226355548285],\"yaxis\":\"y\",\"type\":\"bar\"},{\"alignmentgroup\":\"True\",\"hovertemplate\":\"color=XGB  Score<br>x=%{x}<br>y=%{y}<extra></extra>\",\"legendgroup\":\"XGB  Score\",\"marker\":{\"color\":\"#00cc96\",\"pattern\":{\"shape\":\"\"}},\"name\":\"XGB  Score\",\"offsetgroup\":\"XGB  Score\",\"orientation\":\"v\",\"showlegend\":true,\"textposition\":\"auto\",\"x\":[\"XGB  Score\"],\"xaxis\":\"x\",\"y\":[0.9627544802516641],\"yaxis\":\"y\",\"type\":\"bar\"},{\"alignmentgroup\":\"True\",\"hovertemplate\":\"color=DT  Score<br>x=%{x}<br>y=%{y}<extra></extra>\",\"legendgroup\":\"DT  Score\",\"marker\":{\"color\":\"#ab63fa\",\"pattern\":{\"shape\":\"\"}},\"name\":\"DT  Score\",\"offsetgroup\":\"DT  Score\",\"orientation\":\"v\",\"showlegend\":true,\"textposition\":\"auto\",\"x\":[\"DT  Score\"],\"xaxis\":\"x\",\"y\":[0.9841680954186925],\"yaxis\":\"y\",\"type\":\"bar\"},{\"alignmentgroup\":\"True\",\"hovertemplate\":\"color=RF Score<br>x=%{x}<br>y=%{y}<extra></extra>\",\"legendgroup\":\"RF Score\",\"marker\":{\"color\":\"#FFA15A\",\"pattern\":{\"shape\":\"\"}},\"name\":\"RF Score\",\"offsetgroup\":\"RF Score\",\"orientation\":\"v\",\"showlegend\":true,\"textposition\":\"auto\",\"x\":[\"RF Score\"],\"xaxis\":\"x\",\"y\":[0.9713134914167575],\"yaxis\":\"y\",\"type\":\"bar\"}],                        {\"template\":{\"data\":{\"bar\":[{\"error_x\":{\"color\":\"#2a3f5f\"},\"error_y\":{\"color\":\"#2a3f5f\"},\"marker\":{\"line\":{\"color\":\"#E5ECF6\",\"width\":0.5},\"pattern\":{\"fillmode\":\"overlay\",\"size\":10,\"solidity\":0.2}},\"type\":\"bar\"}],\"barpolar\":[{\"marker\":{\"line\":{\"color\":\"#E5ECF6\",\"width\":0.5},\"pattern\":{\"fillmode\":\"overlay\",\"size\":10,\"solidity\":0.2}},\"type\":\"barpolar\"}],\"carpet\":[{\"aaxis\":{\"endlinecolor\":\"#2a3f5f\",\"gridcolor\":\"white\",\"linecolor\":\"white\",\"minorgridcolor\":\"white\",\"startlinecolor\":\"#2a3f5f\"},\"baxis\":{\"endlinecolor\":\"#2a3f5f\",\"gridcolor\":\"white\",\"linecolor\":\"white\",\"minorgridcolor\":\"white\",\"startlinecolor\":\"#2a3f5f\"},\"type\":\"carpet\"}],\"choropleth\":[{\"colorbar\":{\"outlinewidth\":0,\"ticks\":\"\"},\"type\":\"choropleth\"}],\"contour\":[{\"colorbar\":{\"outlinewidth\":0,\"ticks\":\"\"},\"colorscale\":[[0.0,\"#0d0887\"],[0.1111111111111111,\"#46039f\"],[0.2222222222222222,\"#7201a8\"],[0.3333333333333333,\"#9c179e\"],[0.4444444444444444,\"#bd3786\"],[0.5555555555555556,\"#d8576b\"],[0.6666666666666666,\"#ed7953\"],[0.7777777777777778,\"#fb9f3a\"],[0.8888888888888888,\"#fdca26\"],[1.0,\"#f0f921\"]],\"type\":\"contour\"}],\"contourcarpet\":[{\"colorbar\":{\"outlinewidth\":0,\"ticks\":\"\"},\"type\":\"contourcarpet\"}],\"heatmap\":[{\"colorbar\":{\"outlinewidth\":0,\"ticks\":\"\"},\"colorscale\":[[0.0,\"#0d0887\"],[0.1111111111111111,\"#46039f\"],[0.2222222222222222,\"#7201a8\"],[0.3333333333333333,\"#9c179e\"],[0.4444444444444444,\"#bd3786\"],[0.5555555555555556,\"#d8576b\"],[0.6666666666666666,\"#ed7953\"],[0.7777777777777778,\"#fb9f3a\"],[0.8888888888888888,\"#fdca26\"],[1.0,\"#f0f921\"]],\"type\":\"heatmap\"}],\"heatmapgl\":[{\"colorbar\":{\"outlinewidth\":0,\"ticks\":\"\"},\"colorscale\":[[0.0,\"#0d0887\"],[0.1111111111111111,\"#46039f\"],[0.2222222222222222,\"#7201a8\"],[0.3333333333333333,\"#9c179e\"],[0.4444444444444444,\"#bd3786\"],[0.5555555555555556,\"#d8576b\"],[0.6666666666666666,\"#ed7953\"],[0.7777777777777778,\"#fb9f3a\"],[0.8888888888888888,\"#fdca26\"],[1.0,\"#f0f921\"]],\"type\":\"heatmapgl\"}],\"histogram\":[{\"marker\":{\"pattern\":{\"fillmode\":\"overlay\",\"size\":10,\"solidity\":0.2}},\"type\":\"histogram\"}],\"histogram2d\":[{\"colorbar\":{\"outlinewidth\":0,\"ticks\":\"\"},\"colorscale\":[[0.0,\"#0d0887\"],[0.1111111111111111,\"#46039f\"],[0.2222222222222222,\"#7201a8\"],[0.3333333333333333,\"#9c179e\"],[0.4444444444444444,\"#bd3786\"],[0.5555555555555556,\"#d8576b\"],[0.6666666666666666,\"#ed7953\"],[0.7777777777777778,\"#fb9f3a\"],[0.8888888888888888,\"#fdca26\"],[1.0,\"#f0f921\"]],\"type\":\"histogram2d\"}],\"histogram2dcontour\":[{\"colorbar\":{\"outlinewidth\":0,\"ticks\":\"\"},\"colorscale\":[[0.0,\"#0d0887\"],[0.1111111111111111,\"#46039f\"],[0.2222222222222222,\"#7201a8\"],[0.3333333333333333,\"#9c179e\"],[0.4444444444444444,\"#bd3786\"],[0.5555555555555556,\"#d8576b\"],[0.6666666666666666,\"#ed7953\"],[0.7777777777777778,\"#fb9f3a\"],[0.8888888888888888,\"#fdca26\"],[1.0,\"#f0f921\"]],\"type\":\"histogram2dcontour\"}],\"mesh3d\":[{\"colorbar\":{\"outlinewidth\":0,\"ticks\":\"\"},\"type\":\"mesh3d\"}],\"parcoords\":[{\"line\":{\"colorbar\":{\"outlinewidth\":0,\"ticks\":\"\"}},\"type\":\"parcoords\"}],\"pie\":[{\"automargin\":true,\"type\":\"pie\"}],\"scatter\":[{\"marker\":{\"colorbar\":{\"outlinewidth\":0,\"ticks\":\"\"}},\"type\":\"scatter\"}],\"scatter3d\":[{\"line\":{\"colorbar\":{\"outlinewidth\":0,\"ticks\":\"\"}},\"marker\":{\"colorbar\":{\"outlinewidth\":0,\"ticks\":\"\"}},\"type\":\"scatter3d\"}],\"scattercarpet\":[{\"marker\":{\"colorbar\":{\"outlinewidth\":0,\"ticks\":\"\"}},\"type\":\"scattercarpet\"}],\"scattergeo\":[{\"marker\":{\"colorbar\":{\"outlinewidth\":0,\"ticks\":\"\"}},\"type\":\"scattergeo\"}],\"scattergl\":[{\"marker\":{\"colorbar\":{\"outlinewidth\":0,\"ticks\":\"\"}},\"type\":\"scattergl\"}],\"scattermapbox\":[{\"marker\":{\"colorbar\":{\"outlinewidth\":0,\"ticks\":\"\"}},\"type\":\"scattermapbox\"}],\"scatterpolar\":[{\"marker\":{\"colorbar\":{\"outlinewidth\":0,\"ticks\":\"\"}},\"type\":\"scatterpolar\"}],\"scatterpolargl\":[{\"marker\":{\"colorbar\":{\"outlinewidth\":0,\"ticks\":\"\"}},\"type\":\"scatterpolargl\"}],\"scatterternary\":[{\"marker\":{\"colorbar\":{\"outlinewidth\":0,\"ticks\":\"\"}},\"type\":\"scatterternary\"}],\"surface\":[{\"colorbar\":{\"outlinewidth\":0,\"ticks\":\"\"},\"colorscale\":[[0.0,\"#0d0887\"],[0.1111111111111111,\"#46039f\"],[0.2222222222222222,\"#7201a8\"],[0.3333333333333333,\"#9c179e\"],[0.4444444444444444,\"#bd3786\"],[0.5555555555555556,\"#d8576b\"],[0.6666666666666666,\"#ed7953\"],[0.7777777777777778,\"#fb9f3a\"],[0.8888888888888888,\"#fdca26\"],[1.0,\"#f0f921\"]],\"type\":\"surface\"}],\"table\":[{\"cells\":{\"fill\":{\"color\":\"#EBF0F8\"},\"line\":{\"color\":\"white\"}},\"header\":{\"fill\":{\"color\":\"#C8D4E3\"},\"line\":{\"color\":\"white\"}},\"type\":\"table\"}]},\"layout\":{\"annotationdefaults\":{\"arrowcolor\":\"#2a3f5f\",\"arrowhead\":0,\"arrowwidth\":1},\"autotypenumbers\":\"strict\",\"coloraxis\":{\"colorbar\":{\"outlinewidth\":0,\"ticks\":\"\"}},\"colorscale\":{\"diverging\":[[0,\"#8e0152\"],[0.1,\"#c51b7d\"],[0.2,\"#de77ae\"],[0.3,\"#f1b6da\"],[0.4,\"#fde0ef\"],[0.5,\"#f7f7f7\"],[0.6,\"#e6f5d0\"],[0.7,\"#b8e186\"],[0.8,\"#7fbc41\"],[0.9,\"#4d9221\"],[1,\"#276419\"]],\"sequential\":[[0.0,\"#0d0887\"],[0.1111111111111111,\"#46039f\"],[0.2222222222222222,\"#7201a8\"],[0.3333333333333333,\"#9c179e\"],[0.4444444444444444,\"#bd3786\"],[0.5555555555555556,\"#d8576b\"],[0.6666666666666666,\"#ed7953\"],[0.7777777777777778,\"#fb9f3a\"],[0.8888888888888888,\"#fdca26\"],[1.0,\"#f0f921\"]],\"sequentialminus\":[[0.0,\"#0d0887\"],[0.1111111111111111,\"#46039f\"],[0.2222222222222222,\"#7201a8\"],[0.3333333333333333,\"#9c179e\"],[0.4444444444444444,\"#bd3786\"],[0.5555555555555556,\"#d8576b\"],[0.6666666666666666,\"#ed7953\"],[0.7777777777777778,\"#fb9f3a\"],[0.8888888888888888,\"#fdca26\"],[1.0,\"#f0f921\"]]},\"colorway\":[\"#636efa\",\"#EF553B\",\"#00cc96\",\"#ab63fa\",\"#FFA15A\",\"#19d3f3\",\"#FF6692\",\"#B6E880\",\"#FF97FF\",\"#FECB52\"],\"font\":{\"color\":\"#2a3f5f\"},\"geo\":{\"bgcolor\":\"white\",\"lakecolor\":\"white\",\"landcolor\":\"#E5ECF6\",\"showlakes\":true,\"showland\":true,\"subunitcolor\":\"white\"},\"hoverlabel\":{\"align\":\"left\"},\"hovermode\":\"closest\",\"mapbox\":{\"style\":\"light\"},\"paper_bgcolor\":\"white\",\"plot_bgcolor\":\"#E5ECF6\",\"polar\":{\"angularaxis\":{\"gridcolor\":\"white\",\"linecolor\":\"white\",\"ticks\":\"\"},\"bgcolor\":\"#E5ECF6\",\"radialaxis\":{\"gridcolor\":\"white\",\"linecolor\":\"white\",\"ticks\":\"\"}},\"scene\":{\"xaxis\":{\"backgroundcolor\":\"#E5ECF6\",\"gridcolor\":\"white\",\"gridwidth\":2,\"linecolor\":\"white\",\"showbackground\":true,\"ticks\":\"\",\"zerolinecolor\":\"white\"},\"yaxis\":{\"backgroundcolor\":\"#E5ECF6\",\"gridcolor\":\"white\",\"gridwidth\":2,\"linecolor\":\"white\",\"showbackground\":true,\"ticks\":\"\",\"zerolinecolor\":\"white\"},\"zaxis\":{\"backgroundcolor\":\"#E5ECF6\",\"gridcolor\":\"white\",\"gridwidth\":2,\"linecolor\":\"white\",\"showbackground\":true,\"ticks\":\"\",\"zerolinecolor\":\"white\"}},\"shapedefaults\":{\"line\":{\"color\":\"#2a3f5f\"}},\"ternary\":{\"aaxis\":{\"gridcolor\":\"white\",\"linecolor\":\"white\",\"ticks\":\"\"},\"baxis\":{\"gridcolor\":\"white\",\"linecolor\":\"white\",\"ticks\":\"\"},\"bgcolor\":\"#E5ECF6\",\"caxis\":{\"gridcolor\":\"white\",\"linecolor\":\"white\",\"ticks\":\"\"}},\"title\":{\"x\":0.05},\"xaxis\":{\"automargin\":true,\"gridcolor\":\"white\",\"linecolor\":\"white\",\"ticks\":\"\",\"title\":{\"standoff\":15},\"zerolinecolor\":\"white\",\"zerolinewidth\":2},\"yaxis\":{\"automargin\":true,\"gridcolor\":\"white\",\"linecolor\":\"white\",\"ticks\":\"\",\"title\":{\"standoff\":15},\"zerolinecolor\":\"white\",\"zerolinewidth\":2}}},\"xaxis\":{\"anchor\":\"y\",\"domain\":[0.0,1.0],\"title\":{\"text\":\"Techniques\"}},\"yaxis\":{\"anchor\":\"x\",\"domain\":[0.0,1.0],\"title\":{\"text\":\"F1_Score\"}},\"legend\":{\"title\":{\"text\":\"color\"},\"tracegroupgap\":0},\"title\":{\"text\":\"Techniques Scores\"},\"barmode\":\"relative\"},                        {\"responsive\": true}                    ).then(function(){\n",
              "                            \n",
              "var gd = document.getElementById('46eeecaa-d067-49f2-989b-1a054ce23fee');\n",
              "var x = new MutationObserver(function (mutations, observer) {{\n",
              "        var display = window.getComputedStyle(gd).display;\n",
              "        if (!display || display === 'none') {{\n",
              "            console.log([gd, 'removed!']);\n",
              "            Plotly.purge(gd);\n",
              "            observer.disconnect();\n",
              "        }}\n",
              "}});\n",
              "\n",
              "// Listen for the removal of the full notebook cells\n",
              "var notebookContainer = gd.closest('#notebook-container');\n",
              "if (notebookContainer) {{\n",
              "    x.observe(notebookContainer, {childList: true});\n",
              "}}\n",
              "\n",
              "// Listen for the clearing of the current output cell\n",
              "var outputEl = gd.closest('.output');\n",
              "if (outputEl) {{\n",
              "    x.observe(outputEl, {childList: true});\n",
              "}}\n",
              "\n",
              "                        })                };                            </script>        </div>\n",
              "</body>\n",
              "</html>"
            ]
          },
          "metadata": {}
        }
      ],
      "source": [
        "# Plot The Result Using Plotly\n",
        "px.bar(x=techniques, y=techniques_scores, color=techniques, title=\"Techniques Scores\").update_layout(\n",
        "    xaxis_title=\"Techniques\", \n",
        "    yaxis_title=\"F1_Score\"\n",
        ")"
      ]
    },
    {
      "cell_type": "code",
      "execution_count": null,
      "metadata": {
        "id": "lfnwEYLmy-Qd",
        "scrolled": false
      },
      "outputs": [],
      "source": [
        "# plot using seaborn\n",
        "# plt.figure(figsize=(15, 5))\n",
        "# plt.title('Techniques ROC_AUC Scores')\n",
        "# sns.barplot(x=techniques, y=techniques_roc_auc_scores)\n",
        "# plt.xlabel(\"Techniques\")\n",
        "# plt.ylabel(\"ROC_AUC Score\")"
      ]
    },
    {
      "cell_type": "markdown",
      "source": [],
      "metadata": {
        "id": "3wfREIh3g9ie"
      }
    },
    {
      "cell_type": "markdown",
      "source": [
        "# RandomOver Sampling"
      ],
      "metadata": {
        "id": "8tRA_8O3g-00"
      }
    },
    {
      "cell_type": "code",
      "source": [
        "# initialize RandomOverSampling variable\n",
        "random_over_sampler = RandomOverSampler(random_state=42)\n",
        "random_over_sampler_x_train, random_over_sampler_y_train = random_over_sampler.fit_resample(X_train_robust, y_train)"
      ],
      "metadata": {
        "id": "sskCcdl8g-01"
      },
      "execution_count": null,
      "outputs": []
    },
    {
      "cell_type": "code",
      "source": [
        "random_over_sampler_y_train.value_counts().plot.pie(autopct='%.2f')"
      ],
      "metadata": {
        "colab": {
          "base_uri": "https://localhost:8080/",
          "height": 347
        },
        "id": "pGXL3caiiOaN",
        "outputId": "acd5b978-39f8-437b-ca56-9422a662ec6d"
      },
      "execution_count": null,
      "outputs": [
        {
          "output_type": "execute_result",
          "data": {
            "text/plain": [
              "<matplotlib.axes._subplots.AxesSubplot at 0x7f1b16ddd190>"
            ]
          },
          "metadata": {},
          "execution_count": 27
        },
        {
          "output_type": "display_data",
          "data": {
            "text/plain": [
              "<Figure size 576x396 with 1 Axes>"
            ],
            "image/png": "[encoded data removed]"
          },
          "metadata": {}
        }
      ]
    },
    {
      "cell_type": "markdown",
      "source": [
        "## Decision Tree RandomOver Sampling"
      ],
      "metadata": {
        "id": "3LSOq4Tig-01"
      }
    },
    {
      "cell_type": "code",
      "source": [
        "dt_classifier = DecisionTreeClassifier()\n",
        "dt_classifier.fit(random_over_sampler_x_train, random_over_sampler_y_train)\n",
        "\n",
        "# Perform cross-validation and make predictions on the testing data\n",
        "dt_ros_y_pred = cross_val_predict(dt_classifier, X_test_robust, y_test, cv=5)\n",
        "\n",
        "# Evaluate the model using classification metrics\n",
        "print(\"F1 Score:\", f1_score(y_test, dt_ros_y_pred, average=\"weighted\"))\n",
        "print(\"Precision:\", precision_score(y_test, dt_ros_y_pred, average=\"weighted\"))\n",
        "print(\"Recall:\", recall_score(y_test, dt_ros_y_pred, average=\"weighted\"))\n",
        "print(\"Confusion Matrix:\\n\", confusion_matrix(y_test, dt_ros_y_pred))\n",
        "\n"
      ],
      "metadata": {
        "colab": {
          "base_uri": "https://localhost:8080/"
        },
        "outputId": "413cd1f1-a873-4681-d9e4-124f01c7b32c",
        "id": "qND522NVg-01"
      },
      "execution_count": null,
      "outputs": [
        {
          "output_type": "stream",
          "name": "stdout",
          "text": [
            "F1 Score: 0.9828530372033953\n",
            "Precision: 0.9829029922721881\n",
            "Recall: 0.9828333333333333\n",
            "Confusion Matrix:\n",
            " [[3986    0    0    0    0    0    0    0    0    0]\n",
            " [   0  331    2    0    0    0    0    0    0    0]\n",
            " [   0    1  551    0    1    0    0    0    0    0]\n",
            " [   0    0    0  139    2    5    3    0    0    0]\n",
            " [   0    0    5    0  189    0   11    2    0    0]\n",
            " [   0    0    0    4    1   87    1    4    0    0]\n",
            " [   0    0    0    2    9    2  103    2    5    2]\n",
            " [   0    0    0    2    0    1    6   65    3    1]\n",
            " [   0    0    0    0    0    0    4    3   88    8]\n",
            " [   0    0    0    0    0    1    2    1    7  358]]\n"
          ]
        }
      ]
    },
    {
      "cell_type": "markdown",
      "source": [
        "## LGBMClassifier RandomOver Sampling "
      ],
      "metadata": {
        "id": "KlJFCiLFg-02"
      }
    },
    {
      "cell_type": "code",
      "source": [
        "# LGBMClassifier with scaled data\n",
        "lgbm_classifier = LGBMClassifier(random_state=42)\n",
        "lgbm_classifier.fit(random_over_sampler_x_train, random_over_sampler_y_train)\n",
        "\n",
        "# Perform cross-validation and make predictions on the testing data\n",
        "lgbm_ros_y_pred = cross_val_predict(lgbm_classifier, X_test_robust, y_test, cv=5)\n",
        "\n",
        "# Evaluate the model using classification metrics\n",
        "print(\"F1 Score:\", f1_score(y_test, lgbm_ros_y_pred, average=\"weighted\"))\n",
        "print(\"Precision:\", precision_score(y_test, lgbm_ros_y_pred, average=\"weighted\"))\n",
        "print(\"Recall:\", recall_score(y_test, lgbm_ros_y_pred, average=\"weighted\"))\n",
        "print(\"Confusion Matrix:\\n\", confusion_matrix(y_test, lgbm_ros_y_pred))\n"
      ],
      "metadata": {
        "colab": {
          "base_uri": "https://localhost:8080/"
        },
        "outputId": "94b00325-fd98-4ed3-f276-e507dd309fa9",
        "id": "_xM5Cy6tg-02"
      },
      "execution_count": null,
      "outputs": [
        {
          "output_type": "stream",
          "name": "stdout",
          "text": [
            "F1 Score: 0.9669226355548285\n",
            "Precision: 0.9671156701925789\n",
            "Recall: 0.968\n",
            "Confusion Matrix:\n",
            " [[3986    0    0    0    0    0    0    0    0    0]\n",
            " [   0  333    0    0    0    0    0    0    0    0]\n",
            " [   0    0  550    1    1    1    0    0    0    0]\n",
            " [   0   11    8  128    0    1    0    1    0    0]\n",
            " [   0    0   19    0  179    2    5    0    2    0]\n",
            " [   0    3    0   10    9   68    1    3    1    2]\n",
            " [   0    0    1    1   28    2   86    2    3    2]\n",
            " [   0    0    0    1    4   11    5   46    1   10]\n",
            " [   0    0    0    0    4    1    9    1   76   12]\n",
            " [   0    0    0    0    1    1    2    1    8  356]]\n"
          ]
        }
      ]
    },
    {
      "cell_type": "markdown",
      "source": [
        "## HistGradientBoostingClassifier RandomOver Sampling"
      ],
      "metadata": {
        "id": "U3qkA857g-02"
      }
    },
    {
      "cell_type": "code",
      "source": [
        "# HistGradientBoostingClassifier with scaled data\n",
        "hist_classifier = HistGradientBoostingClassifier(random_state=42)\n",
        "hist_classifier.fit(random_over_sampler_x_train, random_over_sampler_y_train)\n",
        "# Perform cross-validation and make predictions on the testing data\n",
        "hist_ros_y_pred = cross_val_predict(hist_classifier, X_test_robust, y_test, cv=5)\n",
        "# Evaluate the model using classification metrics\n",
        "print(\"F1 Score:\", f1_score(y_test, hist_ros_y_pred, average=\"weighted\"))\n",
        "print(\"Precision:\", precision_score(y_test, hist_ros_y_pred, average=\"weighted\"))\n",
        "print(\"Recall:\", recall_score(y_test, hist_ros_y_pred, average=\"weighted\"))\n",
        "print(\"Confusion Matrix:\\n\", confusion_matrix(y_test, hist_ros_y_pred))"
      ],
      "metadata": {
        "colab": {
          "base_uri": "https://localhost:8080/"
        },
        "outputId": "2ba68b4e-c306-427c-9ec8-31cb8b8d5f57",
        "id": "Sfybz3vlg-02"
      },
      "execution_count": null,
      "outputs": [
        {
          "output_type": "stream",
          "name": "stdout",
          "text": [
            "F1 Score: 0.9688050705715012\n",
            "Precision: 0.9686515602728699\n",
            "Recall: 0.9696666666666667\n",
            "Confusion Matrix:\n",
            " [[3986    0    0    0    0    0    0    0    0    0]\n",
            " [   0  333    0    0    0    0    0    0    0    0]\n",
            " [   0    0  552    0    0    1    0    0    0    0]\n",
            " [   0    8    6  132    0    2    0    1    0    0]\n",
            " [   0    0   21    0  176    2    7    0    1    0]\n",
            " [   0    2    2   10    9   70    1    2    1    0]\n",
            " [   0    0    1    0   27    3   84    3    5    2]\n",
            " [   0    0    0    2    1   10   10   49    1    5]\n",
            " [   0    0    0    0    2    1    7    2   81   10]\n",
            " [   0    0    0    0    0    1    1    2   10  355]]\n"
          ]
        }
      ]
    },
    {
      "cell_type": "markdown",
      "source": [
        "## RANDOM FOREST RandomOver Sampling "
      ],
      "metadata": {
        "id": "FjgEMpXKg-02"
      }
    },
    {
      "cell_type": "code",
      "source": [
        "# RandomForestClassifier with scaling data and with oversampling using SMOTE\n",
        "rfc_classifier=RandomForestClassifier(random_state=42)\n",
        "rfc_classifier.fit(random_over_sampler_x_train, random_over_sampler_y_train)\n",
        "# Perform cross-validation and make predictions on the testing data\n",
        "rfc_ros_y_pred = cross_val_predict(rfc_classifier, X_test_robust, y_test, cv=5)\n",
        "# Evaluate the model using classification metrics\n",
        "print(\"F1 Score:\", f1_score(y_test, rfc_ros_y_pred, average=\"weighted\"))\n",
        "print(\"Precision:\", precision_score(y_test, rfc_ros_y_pred, average=\"weighted\"))\n",
        "print(\"Recall:\", recall_score(y_test, rfc_ros_y_pred, average=\"weighted\"))\n",
        "print(\"Confusion Matrix:\\n\", confusion_matrix(y_test, rfc_ros_y_pred))"
      ],
      "metadata": {
        "colab": {
          "base_uri": "https://localhost:8080/"
        },
        "outputId": "7b262e87-82e0-4916-f1a7-8b00fb6eb6e2",
        "id": "hXB4PegHg-02"
      },
      "execution_count": null,
      "outputs": [
        {
          "output_type": "stream",
          "name": "stdout",
          "text": [
            "F1 Score: 0.9713134914167575\n",
            "Precision: 0.9714415122044634\n",
            "Recall: 0.9718333333333333\n",
            "Confusion Matrix:\n",
            " [[3986    0    0    0    0    0    0    0    0    0]\n",
            " [   0  333    0    0    0    0    0    0    0    0]\n",
            " [   3    1  545    4    0    0    0    0    0    0]\n",
            " [   0   13    6  130    0    0    0    0    0    0]\n",
            " [   1    0   25    0  181    0    0    0    0    0]\n",
            " [   0    1    0    4   18   70    4    0    0    0]\n",
            " [   0    0    1    0   20    7   95    1    1    0]\n",
            " [   0    0    0    0    2    9   11   54    1    1]\n",
            " [   0    0    0    0    1    0    2    5   87    8]\n",
            " [   0    0    0    0    0    0    2    4   13  350]]\n"
          ]
        }
      ]
    },
    {
      "cell_type": "markdown",
      "source": [
        "## XGBClassifier RandomOver Sampling"
      ],
      "metadata": {
        "id": "SoYzTTUHg-02"
      }
    },
    {
      "cell_type": "code",
      "source": [
        "# XGBClassifier with scaled data and with oversampling using SMOTE\n",
        "xgb_clf = XGBClassifier(random_state=42)\n",
        "xgb_clf.fit(random_over_sampler_x_train, random_over_sampler_y_train)\n",
        "# Perform cross-validation and make predictions on the testing data\n",
        "xgb_ros_y_pred = cross_val_predict(xgb_clf, X_test_robust, y_test, cv=5)\n",
        "# Evaluate the model using classification metrics\n",
        "print(\"F1 Score:\", f1_score(y_test, xgb_ros_y_pred, average=\"weighted\"))\n",
        "print(\"Precision:\", precision_score(y_test, xgb_ros_y_pred, average=\"weighted\"))\n",
        "print(\"Recall:\", recall_score(y_test, xgb_ros_y_pred, average=\"weighted\"))\n",
        "print(\"Confusion Matrix:\\n\", confusion_matrix(y_test, xgb_ros_y_pred))\n"
      ],
      "metadata": {
        "colab": {
          "base_uri": "https://localhost:8080/"
        },
        "outputId": "56c69296-3807-44f1-ecd9-759cfaf4349a",
        "id": "0mhxQpcHg-02"
      },
      "execution_count": null,
      "outputs": [
        {
          "output_type": "stream",
          "name": "stdout",
          "text": [
            "F1 Score: 0.9627544802516641\n",
            "Precision: 0.9633488423518165\n",
            "Recall: 0.9641666666666666\n",
            "Confusion Matrix:\n",
            " [[3986    0    0    0    0    0    0    0    0    0]\n",
            " [   0  331    0    2    0    0    0    0    0    0]\n",
            " [   4    0  544    4    1    0    0    0    0    0]\n",
            " [   0   14    2  133    0    0    0    0    0    0]\n",
            " [   0    0   65    0  137    0    5    0    0    0]\n",
            " [   0    0    2   18    7   66    1    2    1    0]\n",
            " [   0    1    5    1   20    5   90    1    1    1]\n",
            " [   0    0    0    0    4   18    6   48    0    2]\n",
            " [   0    0    0    0    1    1    0    3   92    6]\n",
            " [   0    0    0    0    0    1    1    1    8  358]]\n"
          ]
        }
      ]
    },
    {
      "cell_type": "markdown",
      "source": [
        "## Scores"
      ],
      "metadata": {
        "id": "nmrp2jOaNC5L"
      }
    },
    {
      "cell_type": "code",
      "source": [
        "lgbm_ros_score = f1_score(y_test, lgbm_ros_y_pred, average=\"weighted\")\n",
        "hist_ros_score = f1_score(y_test, hist_ros_y_pred, average=\"weighted\")\n",
        "xgb_ros_score = f1_score(y_test, xgb_ros_y_pred, average=\"weighted\")\n",
        "rfc_ros_score = f1_score(y_test, rfc_ros_y_pred, average=\"weighted\")\n",
        "dt_ros_score= f1_score(y_test, dt_ros_y_pred, average=\"weighted\")"
      ],
      "metadata": {
        "id": "frGgUGrmg-03"
      },
      "execution_count": null,
      "outputs": []
    },
    {
      "cell_type": "code",
      "source": [
        "print(lgbm_ros_score) \n",
        "print(hist_ros_score)\n",
        "print(xgb_ros_score)\n",
        "print(rfc_ros_score)\n",
        "print(dt_ros_score)"
      ],
      "metadata": {
        "id": "sZt5AVnPhGXl",
        "colab": {
          "base_uri": "https://localhost:8080/"
        },
        "outputId": "3275307c-3689-4eae-8b10-3c11c02c247b"
      },
      "execution_count": null,
      "outputs": [
        {
          "output_type": "stream",
          "name": "stdout",
          "text": [
            "0.9669226355548285\n",
            "0.9688050705715012\n",
            "0.9627544802516641\n",
            "0.9713134914167575\n",
            "0.9828530372033953\n"
          ]
        }
      ]
    },
    {
      "cell_type": "code",
      "execution_count": null,
      "metadata": {
        "id": "tN4jht7UNK9a"
      },
      "outputs": [],
      "source": [
        "# initialize Values\n",
        "techniques = ['Hist ROS Score', 'LGBM ROS Score', 'XGB ROS Score', 'DT ROS Score','RF ROS Score']\n",
        "techniques_scores = [hist_ros_score, lgbm_ros_score, xgb_ros_score, dt_ros_score, rfc_ros_score]"
      ]
    },
    {
      "cell_type": "code",
      "execution_count": null,
      "metadata": {
        "colab": {
          "base_uri": "https://localhost:8080/",
          "height": 542
        },
        "outputId": "a15160fd-f82d-44a5-b85c-eb1def158ba2",
        "id": "EOyVv-klNK9b"
      },
      "outputs": [
        {
          "output_type": "display_data",
          "data": {
            "text/html": [
              "<html>\n",
              "<head><meta charset=\"utf-8\" /></head>\n",
              "<body>\n",
              "    <div>            <script src=\"https://cdnjs.cloudflare.com/ajax/libs/mathjax/2.7.5/MathJax.js?config=TeX-AMS-MML_SVG\"></script><script type=\"text/javascript\">if (window.MathJax) {MathJax.Hub.Config({SVG: {font: \"STIX-Web\"}});}</script>                <script type=\"text/javascript\">window.PlotlyConfig = {MathJaxConfig: 'local'};</script>\n",
              "        <script src=\"https://cdn.plot.ly/plotly-2.8.3.min.js\"></script>                <div id=\"aeee21d4-f2d8-4e18-940f-7de1ec2cf0c0\" class=\"plotly-graph-div\" style=\"height:525px; width:100%;\"></div>            <script type=\"text/javascript\">                                    window.PLOTLYENV=window.PLOTLYENV || {};                                    if (document.getElementById(\"aeee21d4-f2d8-4e18-940f-7de1ec2cf0c0\")) {                    Plotly.newPlot(                        \"aeee21d4-f2d8-4e18-940f-7de1ec2cf0c0\",                        [{\"alignmentgroup\":\"True\",\"hovertemplate\":\"color=Hist ROS Score<br>x=%{x}<br>y=%{y}<extra></extra>\",\"legendgroup\":\"Hist ROS Score\",\"marker\":{\"color\":\"#636efa\",\"pattern\":{\"shape\":\"\"}},\"name\":\"Hist ROS Score\",\"offsetgroup\":\"Hist ROS Score\",\"orientation\":\"v\",\"showlegend\":true,\"textposition\":\"auto\",\"x\":[\"Hist ROS Score\"],\"xaxis\":\"x\",\"y\":[0.9688050705715012],\"yaxis\":\"y\",\"type\":\"bar\"},{\"alignmentgroup\":\"True\",\"hovertemplate\":\"color=LGBM ROS Score<br>x=%{x}<br>y=%{y}<extra></extra>\",\"legendgroup\":\"LGBM ROS Score\",\"marker\":{\"color\":\"#EF553B\",\"pattern\":{\"shape\":\"\"}},\"name\":\"LGBM ROS Score\",\"offsetgroup\":\"LGBM ROS Score\",\"orientation\":\"v\",\"showlegend\":true,\"textposition\":\"auto\",\"x\":[\"LGBM ROS Score\"],\"xaxis\":\"x\",\"y\":[0.9669226355548285],\"yaxis\":\"y\",\"type\":\"bar\"},{\"alignmentgroup\":\"True\",\"hovertemplate\":\"color=XGB ROS Score<br>x=%{x}<br>y=%{y}<extra></extra>\",\"legendgroup\":\"XGB ROS Score\",\"marker\":{\"color\":\"#00cc96\",\"pattern\":{\"shape\":\"\"}},\"name\":\"XGB ROS Score\",\"offsetgroup\":\"XGB ROS Score\",\"orientation\":\"v\",\"showlegend\":true,\"textposition\":\"auto\",\"x\":[\"XGB ROS Score\"],\"xaxis\":\"x\",\"y\":[0.9627544802516641],\"yaxis\":\"y\",\"type\":\"bar\"},{\"alignmentgroup\":\"True\",\"hovertemplate\":\"color=DT ROS Score<br>x=%{x}<br>y=%{y}<extra></extra>\",\"legendgroup\":\"DT ROS Score\",\"marker\":{\"color\":\"#ab63fa\",\"pattern\":{\"shape\":\"\"}},\"name\":\"DT ROS Score\",\"offsetgroup\":\"DT ROS Score\",\"orientation\":\"v\",\"showlegend\":true,\"textposition\":\"auto\",\"x\":[\"DT ROS Score\"],\"xaxis\":\"x\",\"y\":[0.9828530372033953],\"yaxis\":\"y\",\"type\":\"bar\"},{\"alignmentgroup\":\"True\",\"hovertemplate\":\"color=RF ROS Score<br>x=%{x}<br>y=%{y}<extra></extra>\",\"legendgroup\":\"RF ROS Score\",\"marker\":{\"color\":\"#FFA15A\",\"pattern\":{\"shape\":\"\"}},\"name\":\"RF ROS Score\",\"offsetgroup\":\"RF ROS Score\",\"orientation\":\"v\",\"showlegend\":true,\"textposition\":\"auto\",\"x\":[\"RF ROS Score\"],\"xaxis\":\"x\",\"y\":[0.9713134914167575],\"yaxis\":\"y\",\"type\":\"bar\"}],                        {\"template\":{\"data\":{\"bar\":[{\"error_x\":{\"color\":\"#2a3f5f\"},\"error_y\":{\"color\":\"#2a3f5f\"},\"marker\":{\"line\":{\"color\":\"#E5ECF6\",\"width\":0.5},\"pattern\":{\"fillmode\":\"overlay\",\"size\":10,\"solidity\":0.2}},\"type\":\"bar\"}],\"barpolar\":[{\"marker\":{\"line\":{\"color\":\"#E5ECF6\",\"width\":0.5},\"pattern\":{\"fillmode\":\"overlay\",\"size\":10,\"solidity\":0.2}},\"type\":\"barpolar\"}],\"carpet\":[{\"aaxis\":{\"endlinecolor\":\"#2a3f5f\",\"gridcolor\":\"white\",\"linecolor\":\"white\",\"minorgridcolor\":\"white\",\"startlinecolor\":\"#2a3f5f\"},\"baxis\":{\"endlinecolor\":\"#2a3f5f\",\"gridcolor\":\"white\",\"linecolor\":\"white\",\"minorgridcolor\":\"white\",\"startlinecolor\":\"#2a3f5f\"},\"type\":\"carpet\"}],\"choropleth\":[{\"colorbar\":{\"outlinewidth\":0,\"ticks\":\"\"},\"type\":\"choropleth\"}],\"contour\":[{\"colorbar\":{\"outlinewidth\":0,\"ticks\":\"\"},\"colorscale\":[[0.0,\"#0d0887\"],[0.1111111111111111,\"#46039f\"],[0.2222222222222222,\"#7201a8\"],[0.3333333333333333,\"#9c179e\"],[0.4444444444444444,\"#bd3786\"],[0.5555555555555556,\"#d8576b\"],[0.6666666666666666,\"#ed7953\"],[0.7777777777777778,\"#fb9f3a\"],[0.8888888888888888,\"#fdca26\"],[1.0,\"#f0f921\"]],\"type\":\"contour\"}],\"contourcarpet\":[{\"colorbar\":{\"outlinewidth\":0,\"ticks\":\"\"},\"type\":\"contourcarpet\"}],\"heatmap\":[{\"colorbar\":{\"outlinewidth\":0,\"ticks\":\"\"},\"colorscale\":[[0.0,\"#0d0887\"],[0.1111111111111111,\"#46039f\"],[0.2222222222222222,\"#7201a8\"],[0.3333333333333333,\"#9c179e\"],[0.4444444444444444,\"#bd3786\"],[0.5555555555555556,\"#d8576b\"],[0.6666666666666666,\"#ed7953\"],[0.7777777777777778,\"#fb9f3a\"],[0.8888888888888888,\"#fdca26\"],[1.0,\"#f0f921\"]],\"type\":\"heatmap\"}],\"heatmapgl\":[{\"colorbar\":{\"outlinewidth\":0,\"ticks\":\"\"},\"colorscale\":[[0.0,\"#0d0887\"],[0.1111111111111111,\"#46039f\"],[0.2222222222222222,\"#7201a8\"],[0.3333333333333333,\"#9c179e\"],[0.4444444444444444,\"#bd3786\"],[0.5555555555555556,\"#d8576b\"],[0.6666666666666666,\"#ed7953\"],[0.7777777777777778,\"#fb9f3a\"],[0.8888888888888888,\"#fdca26\"],[1.0,\"#f0f921\"]],\"type\":\"heatmapgl\"}],\"histogram\":[{\"marker\":{\"pattern\":{\"fillmode\":\"overlay\",\"size\":10,\"solidity\":0.2}},\"type\":\"histogram\"}],\"histogram2d\":[{\"colorbar\":{\"outlinewidth\":0,\"ticks\":\"\"},\"colorscale\":[[0.0,\"#0d0887\"],[0.1111111111111111,\"#46039f\"],[0.2222222222222222,\"#7201a8\"],[0.3333333333333333,\"#9c179e\"],[0.4444444444444444,\"#bd3786\"],[0.5555555555555556,\"#d8576b\"],[0.6666666666666666,\"#ed7953\"],[0.7777777777777778,\"#fb9f3a\"],[0.8888888888888888,\"#fdca26\"],[1.0,\"#f0f921\"]],\"type\":\"histogram2d\"}],\"histogram2dcontour\":[{\"colorbar\":{\"outlinewidth\":0,\"ticks\":\"\"},\"colorscale\":[[0.0,\"#0d0887\"],[0.1111111111111111,\"#46039f\"],[0.2222222222222222,\"#7201a8\"],[0.3333333333333333,\"#9c179e\"],[0.4444444444444444,\"#bd3786\"],[0.5555555555555556,\"#d8576b\"],[0.6666666666666666,\"#ed7953\"],[0.7777777777777778,\"#fb9f3a\"],[0.8888888888888888,\"#fdca26\"],[1.0,\"#f0f921\"]],\"type\":\"histogram2dcontour\"}],\"mesh3d\":[{\"colorbar\":{\"outlinewidth\":0,\"ticks\":\"\"},\"type\":\"mesh3d\"}],\"parcoords\":[{\"line\":{\"colorbar\":{\"outlinewidth\":0,\"ticks\":\"\"}},\"type\":\"parcoords\"}],\"pie\":[{\"automargin\":true,\"type\":\"pie\"}],\"scatter\":[{\"marker\":{\"colorbar\":{\"outlinewidth\":0,\"ticks\":\"\"}},\"type\":\"scatter\"}],\"scatter3d\":[{\"line\":{\"colorbar\":{\"outlinewidth\":0,\"ticks\":\"\"}},\"marker\":{\"colorbar\":{\"outlinewidth\":0,\"ticks\":\"\"}},\"type\":\"scatter3d\"}],\"scattercarpet\":[{\"marker\":{\"colorbar\":{\"outlinewidth\":0,\"ticks\":\"\"}},\"type\":\"scattercarpet\"}],\"scattergeo\":[{\"marker\":{\"colorbar\":{\"outlinewidth\":0,\"ticks\":\"\"}},\"type\":\"scattergeo\"}],\"scattergl\":[{\"marker\":{\"colorbar\":{\"outlinewidth\":0,\"ticks\":\"\"}},\"type\":\"scattergl\"}],\"scattermapbox\":[{\"marker\":{\"colorbar\":{\"outlinewidth\":0,\"ticks\":\"\"}},\"type\":\"scattermapbox\"}],\"scatterpolar\":[{\"marker\":{\"colorbar\":{\"outlinewidth\":0,\"ticks\":\"\"}},\"type\":\"scatterpolar\"}],\"scatterpolargl\":[{\"marker\":{\"colorbar\":{\"outlinewidth\":0,\"ticks\":\"\"}},\"type\":\"scatterpolargl\"}],\"scatterternary\":[{\"marker\":{\"colorbar\":{\"outlinewidth\":0,\"ticks\":\"\"}},\"type\":\"scatterternary\"}],\"surface\":[{\"colorbar\":{\"outlinewidth\":0,\"ticks\":\"\"},\"colorscale\":[[0.0,\"#0d0887\"],[0.1111111111111111,\"#46039f\"],[0.2222222222222222,\"#7201a8\"],[0.3333333333333333,\"#9c179e\"],[0.4444444444444444,\"#bd3786\"],[0.5555555555555556,\"#d8576b\"],[0.6666666666666666,\"#ed7953\"],[0.7777777777777778,\"#fb9f3a\"],[0.8888888888888888,\"#fdca26\"],[1.0,\"#f0f921\"]],\"type\":\"surface\"}],\"table\":[{\"cells\":{\"fill\":{\"color\":\"#EBF0F8\"},\"line\":{\"color\":\"white\"}},\"header\":{\"fill\":{\"color\":\"#C8D4E3\"},\"line\":{\"color\":\"white\"}},\"type\":\"table\"}]},\"layout\":{\"annotationdefaults\":{\"arrowcolor\":\"#2a3f5f\",\"arrowhead\":0,\"arrowwidth\":1},\"autotypenumbers\":\"strict\",\"coloraxis\":{\"colorbar\":{\"outlinewidth\":0,\"ticks\":\"\"}},\"colorscale\":{\"diverging\":[[0,\"#8e0152\"],[0.1,\"#c51b7d\"],[0.2,\"#de77ae\"],[0.3,\"#f1b6da\"],[0.4,\"#fde0ef\"],[0.5,\"#f7f7f7\"],[0.6,\"#e6f5d0\"],[0.7,\"#b8e186\"],[0.8,\"#7fbc41\"],[0.9,\"#4d9221\"],[1,\"#276419\"]],\"sequential\":[[0.0,\"#0d0887\"],[0.1111111111111111,\"#46039f\"],[0.2222222222222222,\"#7201a8\"],[0.3333333333333333,\"#9c179e\"],[0.4444444444444444,\"#bd3786\"],[0.5555555555555556,\"#d8576b\"],[0.6666666666666666,\"#ed7953\"],[0.7777777777777778,\"#fb9f3a\"],[0.8888888888888888,\"#fdca26\"],[1.0,\"#f0f921\"]],\"sequentialminus\":[[0.0,\"#0d0887\"],[0.1111111111111111,\"#46039f\"],[0.2222222222222222,\"#7201a8\"],[0.3333333333333333,\"#9c179e\"],[0.4444444444444444,\"#bd3786\"],[0.5555555555555556,\"#d8576b\"],[0.6666666666666666,\"#ed7953\"],[0.7777777777777778,\"#fb9f3a\"],[0.8888888888888888,\"#fdca26\"],[1.0,\"#f0f921\"]]},\"colorway\":[\"#636efa\",\"#EF553B\",\"#00cc96\",\"#ab63fa\",\"#FFA15A\",\"#19d3f3\",\"#FF6692\",\"#B6E880\",\"#FF97FF\",\"#FECB52\"],\"font\":{\"color\":\"#2a3f5f\"},\"geo\":{\"bgcolor\":\"white\",\"lakecolor\":\"white\",\"landcolor\":\"#E5ECF6\",\"showlakes\":true,\"showland\":true,\"subunitcolor\":\"white\"},\"hoverlabel\":{\"align\":\"left\"},\"hovermode\":\"closest\",\"mapbox\":{\"style\":\"light\"},\"paper_bgcolor\":\"white\",\"plot_bgcolor\":\"#E5ECF6\",\"polar\":{\"angularaxis\":{\"gridcolor\":\"white\",\"linecolor\":\"white\",\"ticks\":\"\"},\"bgcolor\":\"#E5ECF6\",\"radialaxis\":{\"gridcolor\":\"white\",\"linecolor\":\"white\",\"ticks\":\"\"}},\"scene\":{\"xaxis\":{\"backgroundcolor\":\"#E5ECF6\",\"gridcolor\":\"white\",\"gridwidth\":2,\"linecolor\":\"white\",\"showbackground\":true,\"ticks\":\"\",\"zerolinecolor\":\"white\"},\"yaxis\":{\"backgroundcolor\":\"#E5ECF6\",\"gridcolor\":\"white\",\"gridwidth\":2,\"linecolor\":\"white\",\"showbackground\":true,\"ticks\":\"\",\"zerolinecolor\":\"white\"},\"zaxis\":{\"backgroundcolor\":\"#E5ECF6\",\"gridcolor\":\"white\",\"gridwidth\":2,\"linecolor\":\"white\",\"showbackground\":true,\"ticks\":\"\",\"zerolinecolor\":\"white\"}},\"shapedefaults\":{\"line\":{\"color\":\"#2a3f5f\"}},\"ternary\":{\"aaxis\":{\"gridcolor\":\"white\",\"linecolor\":\"white\",\"ticks\":\"\"},\"baxis\":{\"gridcolor\":\"white\",\"linecolor\":\"white\",\"ticks\":\"\"},\"bgcolor\":\"#E5ECF6\",\"caxis\":{\"gridcolor\":\"white\",\"linecolor\":\"white\",\"ticks\":\"\"}},\"title\":{\"x\":0.05},\"xaxis\":{\"automargin\":true,\"gridcolor\":\"white\",\"linecolor\":\"white\",\"ticks\":\"\",\"title\":{\"standoff\":15},\"zerolinecolor\":\"white\",\"zerolinewidth\":2},\"yaxis\":{\"automargin\":true,\"gridcolor\":\"white\",\"linecolor\":\"white\",\"ticks\":\"\",\"title\":{\"standoff\":15},\"zerolinecolor\":\"white\",\"zerolinewidth\":2}}},\"xaxis\":{\"anchor\":\"y\",\"domain\":[0.0,1.0],\"title\":{\"text\":\"Techniques\"}},\"yaxis\":{\"anchor\":\"x\",\"domain\":[0.0,1.0],\"title\":{\"text\":\"F1_Score\"}},\"legend\":{\"title\":{\"text\":\"color\"},\"tracegroupgap\":0},\"title\":{\"text\":\"Techniques Scores\"},\"barmode\":\"relative\"},                        {\"responsive\": true}                    ).then(function(){\n",
              "                            \n",
              "var gd = document.getElementById('aeee21d4-f2d8-4e18-940f-7de1ec2cf0c0');\n",
              "var x = new MutationObserver(function (mutations, observer) {{\n",
              "        var display = window.getComputedStyle(gd).display;\n",
              "        if (!display || display === 'none') {{\n",
              "            console.log([gd, 'removed!']);\n",
              "            Plotly.purge(gd);\n",
              "            observer.disconnect();\n",
              "        }}\n",
              "}});\n",
              "\n",
              "// Listen for the removal of the full notebook cells\n",
              "var notebookContainer = gd.closest('#notebook-container');\n",
              "if (notebookContainer) {{\n",
              "    x.observe(notebookContainer, {childList: true});\n",
              "}}\n",
              "\n",
              "// Listen for the clearing of the current output cell\n",
              "var outputEl = gd.closest('.output');\n",
              "if (outputEl) {{\n",
              "    x.observe(outputEl, {childList: true});\n",
              "}}\n",
              "\n",
              "                        })                };                            </script>        </div>\n",
              "</body>\n",
              "</html>"
            ]
          },
          "metadata": {}
        }
      ],
      "source": [
        "# Plot The Result Using Plotly\n",
        "px.bar(x=techniques, y=techniques_scores, color=techniques, title=\"Techniques Scores\").update_layout(\n",
        "    xaxis_title=\"Techniques\", \n",
        "    yaxis_title=\"F1_Score\"\n",
        ")"
      ]
    },
    {
      "cell_type": "markdown",
      "source": [
        "# RandomUnder Sampling"
      ],
      "metadata": {
        "id": "qDw6iI3AhGvO"
      }
    },
    {
      "cell_type": "code",
      "source": [
        "# initialize RandomUnderSampling variable\n",
        "random_under_sampler = RandomUnderSampler(random_state=42)\n",
        "random_under_sampler_x_train, random_under_sampler_y_train = random_under_sampler.fit_resample(X_train_robust, y_train)"
      ],
      "metadata": {
        "id": "h_NNft4lhGvO"
      },
      "execution_count": null,
      "outputs": []
    },
    {
      "cell_type": "code",
      "source": [
        "random_under_sampler_y_train.value_counts().plot.pie(autopct='%.2f')"
      ],
      "metadata": {
        "colab": {
          "base_uri": "https://localhost:8080/",
          "height": 347
        },
        "id": "JBjgI7fYiQU1",
        "outputId": "2e32cd4c-c4ea-443c-c8cc-77481dc079ee"
      },
      "execution_count": null,
      "outputs": [
        {
          "output_type": "execute_result",
          "data": {
            "text/plain": [
              "<matplotlib.axes._subplots.AxesSubplot at 0x7f1b16d2b550>"
            ]
          },
          "metadata": {},
          "execution_count": 39
        },
        {
          "output_type": "display_data",
          "data": {
            "text/plain": [
              "<Figure size 576x396 with 1 Axes>"
            ],
            "image/png": "[encoded data removed]"
          },
          "metadata": {}
        }
      ]
    },
    {
      "cell_type": "markdown",
      "source": [
        "## Decision Tree RandomUnder Sampling"
      ],
      "metadata": {
        "id": "GLFjB_pShGvP"
      }
    },
    {
      "cell_type": "code",
      "source": [
        "dt_classifier = DecisionTreeClassifier()\n",
        "dt_classifier.fit(random_under_sampler_x_train, random_under_sampler_y_train)\n",
        "\n",
        "# Perform cross-validation and make predictions on the testing data\n",
        "dt_rus_y_pred = cross_val_predict(dt_classifier, X_test_robust, y_test, cv=5)\n",
        "\n",
        "# Evaluate the model using classification metrics\n",
        "print(\"F1 Score:\", f1_score(y_test, dt_rus_y_pred, average=\"weighted\"))\n",
        "print(\"Precision:\", precision_score(y_test, dt_rus_y_pred, average=\"weighted\"))\n",
        "print(\"Recall:\", recall_score(y_test, dt_rus_y_pred, average=\"weighted\"))\n",
        "print(\"Confusion Matrix:\\n\", confusion_matrix(y_test, dt_rus_y_pred))\n",
        "\n"
      ],
      "metadata": {
        "colab": {
          "base_uri": "https://localhost:8080/"
        },
        "outputId": "1b55d100-4625-4615-d520-a2ff6759343c",
        "id": "Qi7JQx0nhGvP"
      },
      "execution_count": null,
      "outputs": [
        {
          "output_type": "stream",
          "name": "stdout",
          "text": [
            "F1 Score: 0.9838198980613709\n",
            "Precision: 0.9838490365574157\n",
            "Recall: 0.9838333333333333\n",
            "Confusion Matrix:\n",
            " [[3986    0    0    0    0    0    0    0    0    0]\n",
            " [   0  332    0    1    0    0    0    0    0    0]\n",
            " [   0    1  550    0    1    1    0    0    0    0]\n",
            " [   0    0    0  142    2    4    1    0    0    0]\n",
            " [   0    0    6    0  194    1    5    1    0    0]\n",
            " [   0    0    0    2    2   89    1    3    0    0]\n",
            " [   0    0    0    2    7    2  103    6    3    2]\n",
            " [   0    0    0    1    0    1    7   66    3    0]\n",
            " [   0    0    0    0    0    0    4    4   85   10]\n",
            " [   0    0    0    0    0    1    1    3    8  356]]\n"
          ]
        }
      ]
    },
    {
      "cell_type": "markdown",
      "source": [
        "## LGBMClassifier RandomUnder Sampling "
      ],
      "metadata": {
        "id": "ZxxeOBADhGvP"
      }
    },
    {
      "cell_type": "code",
      "source": [
        "# LGBMClassifier with scaled data\n",
        "lgbm_classifier = LGBMClassifier(random_state=42)\n",
        "lgbm_classifier.fit(random_under_sampler_x_train, random_under_sampler_y_train)\n",
        "\n",
        "# Perform cross-validation and make predictions on the testing data\n",
        "lgbm_rus_y_pred = cross_val_predict(lgbm_classifier, X_test_robust, y_test, cv=5)\n",
        "\n",
        "# Evaluate the model using classification metrics\n",
        "print(\"F1 Score:\", f1_score(y_test, lgbm_rus_y_pred, average=\"weighted\"))\n",
        "print(\"Precision:\", precision_score(y_test, lgbm_rus_y_pred, average=\"weighted\"))\n",
        "print(\"Recall:\", recall_score(y_test, lgbm_rus_y_pred, average=\"weighted\"))\n",
        "print(\"Confusion Matrix:\\n\", confusion_matrix(y_test, lgbm_rus_y_pred))\n"
      ],
      "metadata": {
        "colab": {
          "base_uri": "https://localhost:8080/"
        },
        "outputId": "0784ae9d-a379-43e6-ea0f-983b7f1212ac",
        "id": "x7kT2mSxhGvP"
      },
      "execution_count": null,
      "outputs": [
        {
          "output_type": "stream",
          "name": "stdout",
          "text": [
            "F1 Score: 0.9669226355548285\n",
            "Precision: 0.9671156701925789\n",
            "Recall: 0.968\n",
            "Confusion Matrix:\n",
            " [[3986    0    0    0    0    0    0    0    0    0]\n",
            " [   0  333    0    0    0    0    0    0    0    0]\n",
            " [   0    0  550    1    1    1    0    0    0    0]\n",
            " [   0   11    8  128    0    1    0    1    0    0]\n",
            " [   0    0   19    0  179    2    5    0    2    0]\n",
            " [   0    3    0   10    9   68    1    3    1    2]\n",
            " [   0    0    1    1   28    2   86    2    3    2]\n",
            " [   0    0    0    1    4   11    5   46    1   10]\n",
            " [   0    0    0    0    4    1    9    1   76   12]\n",
            " [   0    0    0    0    1    1    2    1    8  356]]\n"
          ]
        }
      ]
    },
    {
      "cell_type": "markdown",
      "source": [
        "## HistGradientBoostingClassifier RandomUnder Sampling"
      ],
      "metadata": {
        "id": "e5RHBxbohGvP"
      }
    },
    {
      "cell_type": "code",
      "source": [
        "# HistGradientBoostingClassifier with scaled data\n",
        "hist_classifier = HistGradientBoostingClassifier(random_state=42)\n",
        "hist_classifier.fit(random_under_sampler_x_train, random_under_sampler_y_train)\n",
        "# Perform cross-validation and make predictions on the testing data\n",
        "hist_rus_y_pred = cross_val_predict(hist_classifier, X_test_robust, y_test, cv=5)\n",
        "# Evaluate the model using classification metrics\n",
        "print(\"F1 Score:\", f1_score(y_test, hist_rus_y_pred, average=\"weighted\"))\n",
        "print(\"Precision:\", precision_score(y_test, hist_rus_y_pred, average=\"weighted\"))\n",
        "print(\"Recall:\", recall_score(y_test, hist_rus_y_pred, average=\"weighted\"))\n",
        "print(\"Confusion Matrix:\\n\", confusion_matrix(y_test, hist_rus_y_pred))"
      ],
      "metadata": {
        "colab": {
          "base_uri": "https://localhost:8080/"
        },
        "outputId": "19cd4841-0d91-458c-f50a-a93d37bd0487",
        "id": "YmipOJREhGvP"
      },
      "execution_count": null,
      "outputs": [
        {
          "output_type": "stream",
          "name": "stdout",
          "text": [
            "F1 Score: 0.9688050705715012\n",
            "Precision: 0.9686515602728699\n",
            "Recall: 0.9696666666666667\n",
            "Confusion Matrix:\n",
            " [[3986    0    0    0    0    0    0    0    0    0]\n",
            " [   0  333    0    0    0    0    0    0    0    0]\n",
            " [   0    0  552    0    0    1    0    0    0    0]\n",
            " [   0    8    6  132    0    2    0    1    0    0]\n",
            " [   0    0   21    0  176    2    7    0    1    0]\n",
            " [   0    2    2   10    9   70    1    2    1    0]\n",
            " [   0    0    1    0   27    3   84    3    5    2]\n",
            " [   0    0    0    2    1   10   10   49    1    5]\n",
            " [   0    0    0    0    2    1    7    2   81   10]\n",
            " [   0    0    0    0    0    1    1    2   10  355]]\n"
          ]
        }
      ]
    },
    {
      "cell_type": "markdown",
      "source": [
        "## RANDOM FOREST RandomUnder Sampling "
      ],
      "metadata": {
        "id": "PKVzAIcXhGvQ"
      }
    },
    {
      "cell_type": "code",
      "source": [
        "# RandomForestClassifier with scaling data and with oversampling using SMOTE\n",
        "rfc_classifier=RandomForestClassifier(random_state=42)\n",
        "rfc_classifier.fit(random_under_sampler_x_train, random_under_sampler_y_train)\n",
        "# Perform cross-validation and make predictions on the testing data\n",
        "rfc_rus_y_pred = cross_val_predict(rfc_classifier, X_test_robust, y_test, cv=5)\n",
        "# Evaluate the model using classification metrics\n",
        "print(\"F1 Score:\", f1_score(y_test, rfc_rus_y_pred, average=\"weighted\"))\n",
        "print(\"Precision:\", precision_score(y_test, rfc_rus_y_pred, average=\"weighted\"))\n",
        "print(\"Recall:\", recall_score(y_test, rfc_rus_y_pred, average=\"weighted\"))\n",
        "print(\"Confusion Matrix:\\n\", confusion_matrix(y_test, rfc_rus_y_pred))"
      ],
      "metadata": {
        "colab": {
          "base_uri": "https://localhost:8080/"
        },
        "outputId": "1d7a30f4-0503-4b1a-bab3-c8761397537e",
        "id": "sCNIfqBEhGvQ"
      },
      "execution_count": null,
      "outputs": [
        {
          "output_type": "stream",
          "name": "stdout",
          "text": [
            "F1 Score: 0.9713134914167575\n",
            "Precision: 0.9714415122044634\n",
            "Recall: 0.9718333333333333\n",
            "Confusion Matrix:\n",
            " [[3986    0    0    0    0    0    0    0    0    0]\n",
            " [   0  333    0    0    0    0    0    0    0    0]\n",
            " [   3    1  545    4    0    0    0    0    0    0]\n",
            " [   0   13    6  130    0    0    0    0    0    0]\n",
            " [   1    0   25    0  181    0    0    0    0    0]\n",
            " [   0    1    0    4   18   70    4    0    0    0]\n",
            " [   0    0    1    0   20    7   95    1    1    0]\n",
            " [   0    0    0    0    2    9   11   54    1    1]\n",
            " [   0    0    0    0    1    0    2    5   87    8]\n",
            " [   0    0    0    0    0    0    2    4   13  350]]\n"
          ]
        }
      ]
    },
    {
      "cell_type": "markdown",
      "source": [
        "## XGBClassifier RandomUnder Sampling"
      ],
      "metadata": {
        "id": "SsmzeRpMhGvQ"
      }
    },
    {
      "cell_type": "code",
      "source": [
        "# XGBClassifier with scaled data and with oversampling using SMOTE\n",
        "xgb_clf = XGBClassifier(random_state=42)\n",
        "xgb_clf.fit(random_under_sampler_x_train, random_under_sampler_y_train)\n",
        "# Perform cross-validation and make predictions on the testing data\n",
        "xgb_rus_y_pred = cross_val_predict(xgb_clf, X_test_robust, y_test, cv=5)\n",
        "# Evaluate the model using classification metrics\n",
        "print(\"F1 Score:\", f1_score(y_test, xgb_rus_y_pred, average=\"weighted\"))\n",
        "print(\"Precision:\", precision_score(y_test, xgb_rus_y_pred, average=\"weighted\"))\n",
        "print(\"Recall:\", recall_score(y_test, xgb_rus_y_pred, average=\"weighted\"))\n",
        "print(\"Confusion Matrix:\\n\", confusion_matrix(y_test, xgb_rus_y_pred))\n"
      ],
      "metadata": {
        "colab": {
          "base_uri": "https://localhost:8080/"
        },
        "outputId": "f4d5116f-39c1-4dd4-a945-1aa4aac359ce",
        "id": "1I27-NtKhGvQ"
      },
      "execution_count": null,
      "outputs": [
        {
          "output_type": "stream",
          "name": "stdout",
          "text": [
            "F1 Score: 0.9627544802516641\n",
            "Precision: 0.9633488423518165\n",
            "Recall: 0.9641666666666666\n",
            "Confusion Matrix:\n",
            " [[3986    0    0    0    0    0    0    0    0    0]\n",
            " [   0  331    0    2    0    0    0    0    0    0]\n",
            " [   4    0  544    4    1    0    0    0    0    0]\n",
            " [   0   14    2  133    0    0    0    0    0    0]\n",
            " [   0    0   65    0  137    0    5    0    0    0]\n",
            " [   0    0    2   18    7   66    1    2    1    0]\n",
            " [   0    1    5    1   20    5   90    1    1    1]\n",
            " [   0    0    0    0    4   18    6   48    0    2]\n",
            " [   0    0    0    0    1    1    0    3   92    6]\n",
            " [   0    0    0    0    0    1    1    1    8  358]]\n"
          ]
        }
      ]
    },
    {
      "cell_type": "markdown",
      "source": [
        "## RUS Scores"
      ],
      "metadata": {
        "id": "xDGIUG75PS-P"
      }
    },
    {
      "cell_type": "code",
      "source": [
        "lgbm_rus_score = f1_score(y_test, lgbm_rus_y_pred, average=\"weighted\")\n",
        "hist_rus_score = f1_score(y_test, hist_rus_y_pred, average=\"weighted\")\n",
        "xgb_rus_score = f1_score(y_test, xgb_rus_y_pred, average=\"weighted\")\n",
        "rfc_rus_score = f1_score(y_test, rfc_rus_y_pred, average=\"weighted\")\n",
        "dt_rus_score =f1_score(y_test, dt_rus_y_pred, average=\"weighted\")"
      ],
      "metadata": {
        "id": "GqgVpJNrhGvQ"
      },
      "execution_count": null,
      "outputs": []
    },
    {
      "cell_type": "code",
      "source": [
        "print(lgbm_rus_score) \n",
        "print(hist_rus_score)\n",
        "print(xgb_rus_score)\n",
        "print(rfc_rus_score)\n",
        "print(dt_rus_score)"
      ],
      "metadata": {
        "id": "ZyQMqUlFyRNJ",
        "colab": {
          "base_uri": "https://localhost:8080/"
        },
        "outputId": "7826dec9-ddea-41f0-f7d4-908d2ce58a60"
      },
      "execution_count": null,
      "outputs": [
        {
          "output_type": "stream",
          "name": "stdout",
          "text": [
            "0.9669226355548285\n",
            "0.9688050705715012\n",
            "0.9627544802516641\n",
            "0.9713134914167575\n",
            "0.9838198980613709\n"
          ]
        }
      ]
    },
    {
      "cell_type": "code",
      "execution_count": null,
      "metadata": {
        "id": "SElP9L7XNQ_V"
      },
      "outputs": [],
      "source": [
        "# initialize Values\n",
        "techniques = ['Hist RUS Score', 'LGBM RUS Score', 'XGB RUS Score', 'DT RUS Score','RF RUS Score']\n",
        "techniques_scores = [hist_rus_score, lgbm_rus_score, xgb_rus_score, dt_rus_score, rfc_rus_score]"
      ]
    },
    {
      "cell_type": "code",
      "execution_count": null,
      "metadata": {
        "colab": {
          "base_uri": "https://localhost:8080/",
          "height": 542
        },
        "outputId": "cd888fc7-98ba-45e8-9fe3-01e9ed9f7da2",
        "id": "yhhCdmqdNQ_W"
      },
      "outputs": [
        {
          "output_type": "display_data",
          "data": {
            "text/html": [
              "<html>\n",
              "<head><meta charset=\"utf-8\" /></head>\n",
              "<body>\n",
              "    <div>            <script src=\"https://cdnjs.cloudflare.com/ajax/libs/mathjax/2.7.5/MathJax.js?config=TeX-AMS-MML_SVG\"></script><script type=\"text/javascript\">if (window.MathJax) {MathJax.Hub.Config({SVG: {font: \"STIX-Web\"}});}</script>                <script type=\"text/javascript\">window.PlotlyConfig = {MathJaxConfig: 'local'};</script>\n",
              "        <script src=\"https://cdn.plot.ly/plotly-2.8.3.min.js\"></script>                <div id=\"a810db0a-2687-47b4-ace5-a303be555d8b\" class=\"plotly-graph-div\" style=\"height:525px; width:100%;\"></div>            <script type=\"text/javascript\">                                    window.PLOTLYENV=window.PLOTLYENV || {};                                    if (document.getElementById(\"a810db0a-2687-47b4-ace5-a303be555d8b\")) {                    Plotly.newPlot(                        \"a810db0a-2687-47b4-ace5-a303be555d8b\",                        [{\"alignmentgroup\":\"True\",\"hovertemplate\":\"color=Hist RUS Score<br>x=%{x}<br>y=%{y}<extra></extra>\",\"legendgroup\":\"Hist RUS Score\",\"marker\":{\"color\":\"#636efa\",\"pattern\":{\"shape\":\"\"}},\"name\":\"Hist RUS Score\",\"offsetgroup\":\"Hist RUS Score\",\"orientation\":\"v\",\"showlegend\":true,\"textposition\":\"auto\",\"x\":[\"Hist RUS Score\"],\"xaxis\":\"x\",\"y\":[0.9688050705715012],\"yaxis\":\"y\",\"type\":\"bar\"},{\"alignmentgroup\":\"True\",\"hovertemplate\":\"color=LGBM RUS Score<br>x=%{x}<br>y=%{y}<extra></extra>\",\"legendgroup\":\"LGBM RUS Score\",\"marker\":{\"color\":\"#EF553B\",\"pattern\":{\"shape\":\"\"}},\"name\":\"LGBM RUS Score\",\"offsetgroup\":\"LGBM RUS Score\",\"orientation\":\"v\",\"showlegend\":true,\"textposition\":\"auto\",\"x\":[\"LGBM RUS Score\"],\"xaxis\":\"x\",\"y\":[0.9669226355548285],\"yaxis\":\"y\",\"type\":\"bar\"},{\"alignmentgroup\":\"True\",\"hovertemplate\":\"color=XGB RUS Score<br>x=%{x}<br>y=%{y}<extra></extra>\",\"legendgroup\":\"XGB RUS Score\",\"marker\":{\"color\":\"#00cc96\",\"pattern\":{\"shape\":\"\"}},\"name\":\"XGB RUS Score\",\"offsetgroup\":\"XGB RUS Score\",\"orientation\":\"v\",\"showlegend\":true,\"textposition\":\"auto\",\"x\":[\"XGB RUS Score\"],\"xaxis\":\"x\",\"y\":[0.9627544802516641],\"yaxis\":\"y\",\"type\":\"bar\"},{\"alignmentgroup\":\"True\",\"hovertemplate\":\"color=DT RUS Score<br>x=%{x}<br>y=%{y}<extra></extra>\",\"legendgroup\":\"DT RUS Score\",\"marker\":{\"color\":\"#ab63fa\",\"pattern\":{\"shape\":\"\"}},\"name\":\"DT RUS Score\",\"offsetgroup\":\"DT RUS Score\",\"orientation\":\"v\",\"showlegend\":true,\"textposition\":\"auto\",\"x\":[\"DT RUS Score\"],\"xaxis\":\"x\",\"y\":[0.9838198980613709],\"yaxis\":\"y\",\"type\":\"bar\"},{\"alignmentgroup\":\"True\",\"hovertemplate\":\"color=RF RUS Score<br>x=%{x}<br>y=%{y}<extra></extra>\",\"legendgroup\":\"RF RUS Score\",\"marker\":{\"color\":\"#FFA15A\",\"pattern\":{\"shape\":\"\"}},\"name\":\"RF RUS Score\",\"offsetgroup\":\"RF RUS Score\",\"orientation\":\"v\",\"showlegend\":true,\"textposition\":\"auto\",\"x\":[\"RF RUS Score\"],\"xaxis\":\"x\",\"y\":[0.9713134914167575],\"yaxis\":\"y\",\"type\":\"bar\"}],                        {\"template\":{\"data\":{\"bar\":[{\"error_x\":{\"color\":\"#2a3f5f\"},\"error_y\":{\"color\":\"#2a3f5f\"},\"marker\":{\"line\":{\"color\":\"#E5ECF6\",\"width\":0.5},\"pattern\":{\"fillmode\":\"overlay\",\"size\":10,\"solidity\":0.2}},\"type\":\"bar\"}],\"barpolar\":[{\"marker\":{\"line\":{\"color\":\"#E5ECF6\",\"width\":0.5},\"pattern\":{\"fillmode\":\"overlay\",\"size\":10,\"solidity\":0.2}},\"type\":\"barpolar\"}],\"carpet\":[{\"aaxis\":{\"endlinecolor\":\"#2a3f5f\",\"gridcolor\":\"white\",\"linecolor\":\"white\",\"minorgridcolor\":\"white\",\"startlinecolor\":\"#2a3f5f\"},\"baxis\":{\"endlinecolor\":\"#2a3f5f\",\"gridcolor\":\"white\",\"linecolor\":\"white\",\"minorgridcolor\":\"white\",\"startlinecolor\":\"#2a3f5f\"},\"type\":\"carpet\"}],\"choropleth\":[{\"colorbar\":{\"outlinewidth\":0,\"ticks\":\"\"},\"type\":\"choropleth\"}],\"contour\":[{\"colorbar\":{\"outlinewidth\":0,\"ticks\":\"\"},\"colorscale\":[[0.0,\"#0d0887\"],[0.1111111111111111,\"#46039f\"],[0.2222222222222222,\"#7201a8\"],[0.3333333333333333,\"#9c179e\"],[0.4444444444444444,\"#bd3786\"],[0.5555555555555556,\"#d8576b\"],[0.6666666666666666,\"#ed7953\"],[0.7777777777777778,\"#fb9f3a\"],[0.8888888888888888,\"#fdca26\"],[1.0,\"#f0f921\"]],\"type\":\"contour\"}],\"contourcarpet\":[{\"colorbar\":{\"outlinewidth\":0,\"ticks\":\"\"},\"type\":\"contourcarpet\"}],\"heatmap\":[{\"colorbar\":{\"outlinewidth\":0,\"ticks\":\"\"},\"colorscale\":[[0.0,\"#0d0887\"],[0.1111111111111111,\"#46039f\"],[0.2222222222222222,\"#7201a8\"],[0.3333333333333333,\"#9c179e\"],[0.4444444444444444,\"#bd3786\"],[0.5555555555555556,\"#d8576b\"],[0.6666666666666666,\"#ed7953\"],[0.7777777777777778,\"#fb9f3a\"],[0.8888888888888888,\"#fdca26\"],[1.0,\"#f0f921\"]],\"type\":\"heatmap\"}],\"heatmapgl\":[{\"colorbar\":{\"outlinewidth\":0,\"ticks\":\"\"},\"colorscale\":[[0.0,\"#0d0887\"],[0.1111111111111111,\"#46039f\"],[0.2222222222222222,\"#7201a8\"],[0.3333333333333333,\"#9c179e\"],[0.4444444444444444,\"#bd3786\"],[0.5555555555555556,\"#d8576b\"],[0.6666666666666666,\"#ed7953\"],[0.7777777777777778,\"#fb9f3a\"],[0.8888888888888888,\"#fdca26\"],[1.0,\"#f0f921\"]],\"type\":\"heatmapgl\"}],\"histogram\":[{\"marker\":{\"pattern\":{\"fillmode\":\"overlay\",\"size\":10,\"solidity\":0.2}},\"type\":\"histogram\"}],\"histogram2d\":[{\"colorbar\":{\"outlinewidth\":0,\"ticks\":\"\"},\"colorscale\":[[0.0,\"#0d0887\"],[0.1111111111111111,\"#46039f\"],[0.2222222222222222,\"#7201a8\"],[0.3333333333333333,\"#9c179e\"],[0.4444444444444444,\"#bd3786\"],[0.5555555555555556,\"#d8576b\"],[0.6666666666666666,\"#ed7953\"],[0.7777777777777778,\"#fb9f3a\"],[0.8888888888888888,\"#fdca26\"],[1.0,\"#f0f921\"]],\"type\":\"histogram2d\"}],\"histogram2dcontour\":[{\"colorbar\":{\"outlinewidth\":0,\"ticks\":\"\"},\"colorscale\":[[0.0,\"#0d0887\"],[0.1111111111111111,\"#46039f\"],[0.2222222222222222,\"#7201a8\"],[0.3333333333333333,\"#9c179e\"],[0.4444444444444444,\"#bd3786\"],[0.5555555555555556,\"#d8576b\"],[0.6666666666666666,\"#ed7953\"],[0.7777777777777778,\"#fb9f3a\"],[0.8888888888888888,\"#fdca26\"],[1.0,\"#f0f921\"]],\"type\":\"histogram2dcontour\"}],\"mesh3d\":[{\"colorbar\":{\"outlinewidth\":0,\"ticks\":\"\"},\"type\":\"mesh3d\"}],\"parcoords\":[{\"line\":{\"colorbar\":{\"outlinewidth\":0,\"ticks\":\"\"}},\"type\":\"parcoords\"}],\"pie\":[{\"automargin\":true,\"type\":\"pie\"}],\"scatter\":[{\"marker\":{\"colorbar\":{\"outlinewidth\":0,\"ticks\":\"\"}},\"type\":\"scatter\"}],\"scatter3d\":[{\"line\":{\"colorbar\":{\"outlinewidth\":0,\"ticks\":\"\"}},\"marker\":{\"colorbar\":{\"outlinewidth\":0,\"ticks\":\"\"}},\"type\":\"scatter3d\"}],\"scattercarpet\":[{\"marker\":{\"colorbar\":{\"outlinewidth\":0,\"ticks\":\"\"}},\"type\":\"scattercarpet\"}],\"scattergeo\":[{\"marker\":{\"colorbar\":{\"outlinewidth\":0,\"ticks\":\"\"}},\"type\":\"scattergeo\"}],\"scattergl\":[{\"marker\":{\"colorbar\":{\"outlinewidth\":0,\"ticks\":\"\"}},\"type\":\"scattergl\"}],\"scattermapbox\":[{\"marker\":{\"colorbar\":{\"outlinewidth\":0,\"ticks\":\"\"}},\"type\":\"scattermapbox\"}],\"scatterpolar\":[{\"marker\":{\"colorbar\":{\"outlinewidth\":0,\"ticks\":\"\"}},\"type\":\"scatterpolar\"}],\"scatterpolargl\":[{\"marker\":{\"colorbar\":{\"outlinewidth\":0,\"ticks\":\"\"}},\"type\":\"scatterpolargl\"}],\"scatterternary\":[{\"marker\":{\"colorbar\":{\"outlinewidth\":0,\"ticks\":\"\"}},\"type\":\"scatterternary\"}],\"surface\":[{\"colorbar\":{\"outlinewidth\":0,\"ticks\":\"\"},\"colorscale\":[[0.0,\"#0d0887\"],[0.1111111111111111,\"#46039f\"],[0.2222222222222222,\"#7201a8\"],[0.3333333333333333,\"#9c179e\"],[0.4444444444444444,\"#bd3786\"],[0.5555555555555556,\"#d8576b\"],[0.6666666666666666,\"#ed7953\"],[0.7777777777777778,\"#fb9f3a\"],[0.8888888888888888,\"#fdca26\"],[1.0,\"#f0f921\"]],\"type\":\"surface\"}],\"table\":[{\"cells\":{\"fill\":{\"color\":\"#EBF0F8\"},\"line\":{\"color\":\"white\"}},\"header\":{\"fill\":{\"color\":\"#C8D4E3\"},\"line\":{\"color\":\"white\"}},\"type\":\"table\"}]},\"layout\":{\"annotationdefaults\":{\"arrowcolor\":\"#2a3f5f\",\"arrowhead\":0,\"arrowwidth\":1},\"autotypenumbers\":\"strict\",\"coloraxis\":{\"colorbar\":{\"outlinewidth\":0,\"ticks\":\"\"}},\"colorscale\":{\"diverging\":[[0,\"#8e0152\"],[0.1,\"#c51b7d\"],[0.2,\"#de77ae\"],[0.3,\"#f1b6da\"],[0.4,\"#fde0ef\"],[0.5,\"#f7f7f7\"],[0.6,\"#e6f5d0\"],[0.7,\"#b8e186\"],[0.8,\"#7fbc41\"],[0.9,\"#4d9221\"],[1,\"#276419\"]],\"sequential\":[[0.0,\"#0d0887\"],[0.1111111111111111,\"#46039f\"],[0.2222222222222222,\"#7201a8\"],[0.3333333333333333,\"#9c179e\"],[0.4444444444444444,\"#bd3786\"],[0.5555555555555556,\"#d8576b\"],[0.6666666666666666,\"#ed7953\"],[0.7777777777777778,\"#fb9f3a\"],[0.8888888888888888,\"#fdca26\"],[1.0,\"#f0f921\"]],\"sequentialminus\":[[0.0,\"#0d0887\"],[0.1111111111111111,\"#46039f\"],[0.2222222222222222,\"#7201a8\"],[0.3333333333333333,\"#9c179e\"],[0.4444444444444444,\"#bd3786\"],[0.5555555555555556,\"#d8576b\"],[0.6666666666666666,\"#ed7953\"],[0.7777777777777778,\"#fb9f3a\"],[0.8888888888888888,\"#fdca26\"],[1.0,\"#f0f921\"]]},\"colorway\":[\"#636efa\",\"#EF553B\",\"#00cc96\",\"#ab63fa\",\"#FFA15A\",\"#19d3f3\",\"#FF6692\",\"#B6E880\",\"#FF97FF\",\"#FECB52\"],\"font\":{\"color\":\"#2a3f5f\"},\"geo\":{\"bgcolor\":\"white\",\"lakecolor\":\"white\",\"landcolor\":\"#E5ECF6\",\"showlakes\":true,\"showland\":true,\"subunitcolor\":\"white\"},\"hoverlabel\":{\"align\":\"left\"},\"hovermode\":\"closest\",\"mapbox\":{\"style\":\"light\"},\"paper_bgcolor\":\"white\",\"plot_bgcolor\":\"#E5ECF6\",\"polar\":{\"angularaxis\":{\"gridcolor\":\"white\",\"linecolor\":\"white\",\"ticks\":\"\"},\"bgcolor\":\"#E5ECF6\",\"radialaxis\":{\"gridcolor\":\"white\",\"linecolor\":\"white\",\"ticks\":\"\"}},\"scene\":{\"xaxis\":{\"backgroundcolor\":\"#E5ECF6\",\"gridcolor\":\"white\",\"gridwidth\":2,\"linecolor\":\"white\",\"showbackground\":true,\"ticks\":\"\",\"zerolinecolor\":\"white\"},\"yaxis\":{\"backgroundcolor\":\"#E5ECF6\",\"gridcolor\":\"white\",\"gridwidth\":2,\"linecolor\":\"white\",\"showbackground\":true,\"ticks\":\"\",\"zerolinecolor\":\"white\"},\"zaxis\":{\"backgroundcolor\":\"#E5ECF6\",\"gridcolor\":\"white\",\"gridwidth\":2,\"linecolor\":\"white\",\"showbackground\":true,\"ticks\":\"\",\"zerolinecolor\":\"white\"}},\"shapedefaults\":{\"line\":{\"color\":\"#2a3f5f\"}},\"ternary\":{\"aaxis\":{\"gridcolor\":\"white\",\"linecolor\":\"white\",\"ticks\":\"\"},\"baxis\":{\"gridcolor\":\"white\",\"linecolor\":\"white\",\"ticks\":\"\"},\"bgcolor\":\"#E5ECF6\",\"caxis\":{\"gridcolor\":\"white\",\"linecolor\":\"white\",\"ticks\":\"\"}},\"title\":{\"x\":0.05},\"xaxis\":{\"automargin\":true,\"gridcolor\":\"white\",\"linecolor\":\"white\",\"ticks\":\"\",\"title\":{\"standoff\":15},\"zerolinecolor\":\"white\",\"zerolinewidth\":2},\"yaxis\":{\"automargin\":true,\"gridcolor\":\"white\",\"linecolor\":\"white\",\"ticks\":\"\",\"title\":{\"standoff\":15},\"zerolinecolor\":\"white\",\"zerolinewidth\":2}}},\"xaxis\":{\"anchor\":\"y\",\"domain\":[0.0,1.0],\"title\":{\"text\":\"Techniques\"}},\"yaxis\":{\"anchor\":\"x\",\"domain\":[0.0,1.0],\"title\":{\"text\":\"F1_Score\"}},\"legend\":{\"title\":{\"text\":\"color\"},\"tracegroupgap\":0},\"title\":{\"text\":\"Techniques Scores\"},\"barmode\":\"relative\"},                        {\"responsive\": true}                    ).then(function(){\n",
              "                            \n",
              "var gd = document.getElementById('a810db0a-2687-47b4-ace5-a303be555d8b');\n",
              "var x = new MutationObserver(function (mutations, observer) {{\n",
              "        var display = window.getComputedStyle(gd).display;\n",
              "        if (!display || display === 'none') {{\n",
              "            console.log([gd, 'removed!']);\n",
              "            Plotly.purge(gd);\n",
              "            observer.disconnect();\n",
              "        }}\n",
              "}});\n",
              "\n",
              "// Listen for the removal of the full notebook cells\n",
              "var notebookContainer = gd.closest('#notebook-container');\n",
              "if (notebookContainer) {{\n",
              "    x.observe(notebookContainer, {childList: true});\n",
              "}}\n",
              "\n",
              "// Listen for the clearing of the current output cell\n",
              "var outputEl = gd.closest('.output');\n",
              "if (outputEl) {{\n",
              "    x.observe(outputEl, {childList: true});\n",
              "}}\n",
              "\n",
              "                        })                };                            </script>        </div>\n",
              "</body>\n",
              "</html>"
            ]
          },
          "metadata": {}
        }
      ],
      "source": [
        "# Plot The Result Using Plotly\n",
        "px.bar(x=techniques, y=techniques_scores, color=techniques, title=\"Techniques Scores\").update_layout(\n",
        "    xaxis_title=\"Techniques\", \n",
        "    yaxis_title=\"F1_Score\"\n",
        ")"
      ]
    },
    {
      "cell_type": "code",
      "source": [
        "for i in range(len(techniques_scores)):\n",
        "  print(techniques_scores[i])"
      ],
      "metadata": {
        "id": "kZb8kE-7NMCM",
        "colab": {
          "base_uri": "https://localhost:8080/"
        },
        "outputId": "1d141063-1224-4088-dec4-579d14c8007a"
      },
      "execution_count": null,
      "outputs": [
        {
          "output_type": "stream",
          "name": "stdout",
          "text": [
            "0.9688050705715012\n",
            "0.9669226355548285\n",
            "0.9627544802516641\n",
            "0.9838198980613709\n",
            "0.9713134914167575\n"
          ]
        }
      ]
    },
    {
      "cell_type": "code",
      "source": [
        "scores = {\n",
        "    'Hist RUS Score':hist_rus_score , \n",
        "    'LGBM RUS Score': lgbm_rus_score, \n",
        "    'XGB RUS Score': xgb_rus_score, \n",
        "    'DT RUS Score': dt_rus_score ,\n",
        "    'RF RUS Score': rfc_rus_score\n",
        "} "
      ],
      "metadata": {
        "id": "ReLiwarsPT6J"
      },
      "execution_count": null,
      "outputs": []
    },
    {
      "cell_type": "code",
      "source": [
        "scores.keys[1]"
      ],
      "metadata": {
        "colab": {
          "base_uri": "https://localhost:8080/",
          "height": 165
        },
        "id": "P_78VlxPQgcu",
        "outputId": "d7e92549-8531-4126-94be-f1a20c88179d"
      },
      "execution_count": null,
      "outputs": [
        {
          "output_type": "error",
          "ename": "TypeError",
          "evalue": "ignored",
          "traceback": [
            "\u001b[0;31m---------------------------------------------------------------------------\u001b[0m",
            "\u001b[0;31mTypeError\u001b[0m                                 Traceback (most recent call last)",
            "\u001b[0;32m<ipython-input-60-c1b6725db80a>\u001b[0m in \u001b[0;36m<module>\u001b[0;34m\u001b[0m\n\u001b[0;32m----> 1\u001b[0;31m \u001b[0mscores\u001b[0m\u001b[0;34m.\u001b[0m\u001b[0mkeys\u001b[0m\u001b[0;34m[\u001b[0m\u001b[0;36m1\u001b[0m\u001b[0;34m]\u001b[0m\u001b[0;34m\u001b[0m\u001b[0;34m\u001b[0m\u001b[0m\n\u001b[0m",
            "\u001b[0;31mTypeError\u001b[0m: 'builtin_function_or_method' object is not subscriptable"
          ]
        }
      ]
    },
    {
      "cell_type": "code",
      "source": [
        "\n",
        "for i,j in scores.items():\n",
        "  print(i,':',j)\n",
        "  scr = 0\n",
        "  if j > scr:\n",
        "    scr = j \n",
        "    print(scr)\n",
        "  # for scs in range(len(scores)):\n",
        "  #   sc = 1\n",
        "  #   if j > sc:\n",
        "  #     sc=j\n",
        "  #   print(sc)\n",
        "    "
      ],
      "metadata": {
        "colab": {
          "base_uri": "https://localhost:8080/"
        },
        "id": "VEG2FOvkQJsM",
        "outputId": "7ba9ca25-ba7f-4bcf-afb1-8e1833812c1f"
      },
      "execution_count": null,
      "outputs": [
        {
          "output_type": "stream",
          "name": "stdout",
          "text": [
            "Hist RUS Score : 0.9688050705715012\n",
            "0.9688050705715012\n",
            "LGBM RUS Score : 0.9669226355548285\n",
            "0.9669226355548285\n",
            "XGB RUS Score : 0.9627544802516641\n",
            "0.9627544802516641\n",
            "DT RUS Score : 0.9838198980613709\n",
            "0.9838198980613709\n",
            "RF RUS Score : 0.9713134914167575\n",
            "0.9713134914167575\n"
          ]
        }
      ]
    },
    {
      "cell_type": "code",
      "source": [
        "len(scores)"
      ],
      "metadata": {
        "colab": {
          "base_uri": "https://localhost:8080/"
        },
        "id": "sCPonJlYQWI7",
        "outputId": "984d4da5-6537-48ad-8115-0265fcea34c6"
      },
      "execution_count": null,
      "outputs": [
        {
          "output_type": "execute_result",
          "data": {
            "text/plain": [
              "5"
            ]
          },
          "metadata": {},
          "execution_count": 68
        }
      ]
    },
    {
      "cell_type": "code",
      "source": [],
      "metadata": {
        "id": "XSa5uJjITL_e"
      },
      "execution_count": null,
      "outputs": []
    }
  ]
}